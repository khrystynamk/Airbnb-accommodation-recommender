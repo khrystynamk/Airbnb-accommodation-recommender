{
 "cells": [
  {
   "cell_type": "markdown",
   "metadata": {},
   "source": [
    "# Precomputing similarity matrices and saving the trained model"
   ]
  },
  {
   "cell_type": "code",
   "execution_count": 91,
   "metadata": {},
   "outputs": [],
   "source": [
    "import pandas as pd\n",
    "import numpy as np\n",
    "from sklearn.feature_extraction.text import TfidfVectorizer\n",
    "from sklearn.metrics.pairwise import cosine_similarity\n",
    "from sklearn.preprocessing import MinMaxScaler\n",
    "from sklearn.neighbors import NearestNeighbors\n",
    "import joblib"
   ]
  },
  {
   "cell_type": "code",
   "execution_count": 92,
   "metadata": {},
   "outputs": [],
   "source": [
    "# listings = pd.read_csv('./NewYork/full_merged_translated.csv')\n",
    "listings = pd.read_csv('./full_removed_toosimilar.csv')"
   ]
  },
  {
   "cell_type": "code",
   "execution_count": 93,
   "metadata": {},
   "outputs": [],
   "source": [
    "vectorizer = TfidfVectorizer(stop_words='english', analyzer='word')\n",
    "tfidf_matrix = vectorizer.fit_transform(listings['description'])\n",
    "desc_cosine_sim = cosine_similarity(tfidf_matrix)"
   ]
  },
  {
   "cell_type": "code",
   "execution_count": 94,
   "metadata": {},
   "outputs": [],
   "source": [
    "def convert_str_to_array(data, remove_newline=False):\n",
    "    cleaned_string = data.replace('\\n', ' ') if remove_newline else data\n",
    "    cleaned_string = cleaned_string.strip('[]')\n",
    "    vector_array = np.fromstring(cleaned_string, sep=' ')\n",
    "    return vector_array"
   ]
  },
  {
   "cell_type": "code",
   "execution_count": 95,
   "metadata": {},
   "outputs": [],
   "source": [
    "listings['photo_vector'] = listings['photo_vector'].apply(lambda x: convert_str_to_array(x, remove_newline=True))\n",
    "img_vectors = np.array(listings['photo_vector'].tolist())\n",
    "img_cosine_sim = cosine_similarity(img_vectors)"
   ]
  },
  {
   "cell_type": "code",
   "execution_count": 96,
   "metadata": {},
   "outputs": [],
   "source": [
    "listings['polarity'] = listings['polarity'].apply(lambda x: convert_str_to_array(x))\n",
    "polarity = np.array(listings['polarity'].tolist())"
   ]
  },
  {
   "cell_type": "code",
   "execution_count": 97,
   "metadata": {},
   "outputs": [],
   "source": [
    "scaler = MinMaxScaler()\n",
    "price_features = scaler.fit_transform(listings[['price']])\n",
    "location_features = scaler.fit_transform(listings[['latitude', 'longitude']])"
   ]
  },
  {
   "cell_type": "code",
   "execution_count": 98,
   "metadata": {},
   "outputs": [],
   "source": [
    "combined_features = np.hstack([\n",
    "    desc_cosine_sim,\n",
    "    img_cosine_sim,\n",
    "    polarity,\n",
    "    price_features,\n",
    "    location_features\n",
    "])"
   ]
  },
  {
   "cell_type": "code",
   "execution_count": 99,
   "metadata": {},
   "outputs": [],
   "source": [
    "np.savez_compressed('combined_features.npz', combined_features=combined_features)"
   ]
  },
  {
   "cell_type": "code",
   "execution_count": 100,
   "metadata": {},
   "outputs": [],
   "source": [
    "def train_knn_model(features):\n",
    "    knn = NearestNeighbors(n_neighbors=11, metric='euclidean')  # 10 neighbors + 1 for the query itself\n",
    "    knn.fit(features)\n",
    "    return knn"
   ]
  },
  {
   "cell_type": "code",
   "execution_count": 101,
   "metadata": {},
   "outputs": [],
   "source": [
    "knn_model = train_knn_model(combined_features)"
   ]
  },
  {
   "cell_type": "code",
   "execution_count": 81,
   "metadata": {},
   "outputs": [],
   "source": [
    "def get_knn_recommendations(knn_model, listing_index, listings, k=10):\n",
    "    _, indices = knn_model.kneighbors([combined_features[listing_index]])\n",
    "    recommendations = listings.iloc[indices[0][1:k+1]].copy()\n",
    "    \n",
    "    recommendations['desc_similarity'] = desc_cosine_sim[listing_index, indices[0][1:k+1]]\n",
    "    recommendations['img_similarity'] = img_cosine_sim[listing_index, indices[0][1:k+1]]\n",
    "    \n",
    "    filtered_recommendations = recommendations[\n",
    "        ~((recommendations['desc_similarity'] > 0.98) | (recommendations['img_similarity'] > 0.98))\n",
    "    ]\n",
    "    \n",
    "    return filtered_recommendations[['id', 'name', 'description', 'picture_url', 'price']]\n"
   ]
  },
  {
   "cell_type": "code",
   "execution_count": 42,
   "metadata": {},
   "outputs": [],
   "source": [
    "def get_knn_recommendations(knn_model, listing_index, listings, k=10):\n",
    "    _, indices = knn_model.kneighbors([combined_features[listing_index]])\n",
    "    recommendations = listings.iloc[indices[0][1:k+1]][['id', 'name', 'description', 'picture_url', 'price']]\n",
    "    return recommendations"
   ]
  },
  {
   "cell_type": "code",
   "execution_count": 21,
   "metadata": {},
   "outputs": [
    {
     "data": {
      "text/plain": [
       "(21411, 55)"
      ]
     },
     "execution_count": 21,
     "metadata": {},
     "output_type": "execute_result"
    }
   ],
   "source": [
    "listings.shape"
   ]
  },
  {
   "cell_type": "markdown",
   "metadata": {},
   "source": [
    "# Remove the most similar listings"
   ]
  },
  {
   "cell_type": "code",
   "execution_count": 29,
   "metadata": {},
   "outputs": [],
   "source": [
    "def remove_similar_listings(listings, desc_cosine_sim, img_cosine_sim, similarity_threshold=0.98):\n",
    "    to_remove = set()\n",
    "\n",
    "    for i in range(len(listings)):\n",
    "        if i in to_remove:\n",
    "            continue\n",
    "        similar_indices = np.where(\n",
    "            (desc_cosine_sim[i] > similarity_threshold) & (img_cosine_sim[i] > similarity_threshold)\n",
    "        )[0]\n",
    "        for idx in similar_indices:\n",
    "            if idx != i:\n",
    "                to_remove.add(idx)\n",
    "\n",
    "    to_keep = [i for i in range(len(listings)) if i not in to_remove]\n",
    "    return listings.iloc[to_keep].reset_index(drop=True)\n"
   ]
  },
  {
   "cell_type": "code",
   "execution_count": 30,
   "metadata": {},
   "outputs": [],
   "source": [
    "removed_too_similar = remove_similar_listings(listings, desc_cosine_sim, img_cosine_sim, similarity_threshold=0.98)"
   ]
  },
  {
   "cell_type": "code",
   "execution_count": 31,
   "metadata": {},
   "outputs": [
    {
     "data": {
      "text/plain": [
       "(20671, 55)"
      ]
     },
     "execution_count": 31,
     "metadata": {},
     "output_type": "execute_result"
    }
   ],
   "source": [
    "removed_too_similar.shape"
   ]
  },
  {
   "cell_type": "code",
   "execution_count": 32,
   "metadata": {},
   "outputs": [],
   "source": [
    "removed_too_similar.to_csv('./full_removed_toosimilar.csv', index=False)"
   ]
  },
  {
   "cell_type": "code",
   "execution_count": 89,
   "metadata": {},
   "outputs": [],
   "source": [
    "id_listing = 20253 # 19853\n",
    "recommended_listings = get_knn_recommendations(knn_model, id_listing, listings, k=10, similarity_threshold=0.98)"
   ]
  },
  {
   "cell_type": "code",
   "execution_count": 90,
   "metadata": {},
   "outputs": [
    {
     "name": "stdout",
     "output_type": "stream",
     "text": [
      "Elegant 1 bedroom suite in midtown Manhattan\n",
      "\n",
      "200.0\n",
      "\n",
      "Furnished one bedroom with private bath and  fully equipped kitchen in Midtown. 3 blocks from Grand Central Station. Sleeps up to 4. All utilities, cable, wifi, local calls, complimentary weekly linen service, toiletries, in-room coffee and tea supplies and the use of our gym and business center included in price. Complimentary housekeeping service is provided. 24 Hour Reception and Concierge Desk. Doorman.Laundry room.Supermarket across street. Approx 9.5% NYC taxes to be paid directly to host.\n",
      "\n",
      "https://a0.muscache.com/pictures/ee54ff7c-c7fb-4b57-8ea6-427aed24f1e5.jpg\n",
      "\n",
      "Beautiful One bedroom in Midtown Manhattan\n",
      "\n",
      "200.0\n",
      "\n",
      "Furnished one bedroom with private bath and  fully equipped kitchen in Midtown. 3 blocks from Grand Central Station. Sleeps up to 4.  All utilities, cable, wifi, local calls, complimentary weekly linen service, toiletries, in-room coffee and tea supplies and the use of our gym and business center included in price.Complimentary housekeeping service is provided. 24 Hour Reception and Concierge Desk. Doorman.Laundry room.Supermarket across street. Approx 9.5% NYC taxes to be paid directly to host.\n",
      "\n",
      "https://a0.muscache.com/pictures/8fda0c73-1dc4-45e9-b9e8-f32e1d17884e.jpg\n",
      "\n",
      "Charming 1 bedroom in mid-town Manhattan\n",
      "\n",
      "200.0\n",
      "\n",
      "Furnished one bedroom with private bath and  fully equipped kitchen in Midtown. 3 blocks from Grand Central Station. Sleeps up to 4.All utilities, cable, wifi, local calls, complimentary weekly linen service, toiletries, in-room coffee and tea supplies and the use of our gym and business center included in price. Complimentary housekeeping service is provided. 24 Hour Reception and Concierge Desk. Doorman.Laundry room. Supermarket across street. Approx 9.5% NYC taxes to be paid directly to host.\n",
      "\n",
      "https://a0.muscache.com/pictures/e9d5d163-7a57-4d68-8136-a102f6697bc3.jpg\n",
      "\n",
      "Incredible midtown one bedroom apartment\n",
      "\n",
      "200.0\n",
      "\n",
      "Furnished one bedroom with private bath and fully equipped kitchen in Midtown. 3 blocks from Grand Central Station. Sleeps up to 4. All utilities, cable, wifi, local calls, complimentary weekly linen service, toiletries, in-room coffee and tea supplies and the use of our gym and business center included in price. Complimentary housekeeping service is provided. 24 Hour Reception and Concierge Desk. Doorman. Laundry room. Supermarket across street. Approx 9.5% NYC taxes to be paid directly to host\n",
      "\n",
      "https://a0.muscache.com/pictures/feccab38-50ce-4718-b1d4-db9fa88bf262.jpg\n",
      "\n",
      "Furnished Midtown One Bedroom Beauty\n",
      "\n",
      "200.0\n",
      "\n",
      "Furnished one bedroom with private bath and  fully equipped kitchen in Midtown. 3 blocks from Grand Central Station. Sleeps up to 4.All utilities, cable, wifi, local calls, complimentary weekly linen service, toiletries, in-room coffee and tea supplies and the use of our gym and business center included in price. Complimentary housekeeping service is provided. 24 Hour Reception and Concierge Desk. Doorman.Laundry room. Supermarket across street. Approx 9.5% NYC taxes to be paid directly to host.\n",
      "\n",
      "https://a0.muscache.com/pictures/feccab38-50ce-4718-b1d4-db9fa88bf262.jpg\n",
      "\n",
      "Attractive One bedroom beauty in Midtown\n",
      "\n",
      "200.0\n",
      "\n",
      "Furnished one bedroom with private bath and fully equipped kitchen in Midtown. 3 blocks from Grand Central Station. Sleeps up to 4. All utilities, cable, wifi, local calls, complimentary weekly linen service, toiletries, in-room coffee and tea supplies and the use of our gym and business center included in price. Complimentary housekeeping service is provided. 24 Hour Reception and Concierge Desk. Doorman. Laundry room. Supermarket across street. Approx 11% NYC taxes to be paid directly to host.\n",
      "\n",
      "https://a0.muscache.com/pictures/feccab38-50ce-4718-b1d4-db9fa88bf262.jpg\n",
      "\n",
      "Homey one bedroom apartment in midtown\n",
      "\n",
      "200.0\n",
      "\n",
      "Furnished one bedroom with private bath and fully equipped kitchen in Midtown. 3 blocks from Grand Central Station. Sleeps up to 4. All utilities, cable, wifi, local calls, complimentary weekly linen service, toiletries, in-room coffee and tea supplies and the use of our gym and business center included in price. Complimentary housekeeping service is provided. 24 Hour Reception and Concierge Desk. Doorman. Laundry room. Supermarket across street. Approx 11% NYC taxes to be paid directly to host.\n",
      "\n",
      "https://a0.muscache.com/pictures/feccab38-50ce-4718-b1d4-db9fa88bf262.jpg\n",
      "\n",
      "Beautiful midtown one bedroom apartment\n",
      "\n",
      "200.0\n",
      "\n",
      "Furnished one bedroom with private bath and fully equipped kitchen in Midtown. 3 blocks from Grand Central Station. Sleeps up to 4. All utilities, cable, wifi, local calls, complimentary weekly linen service, toiletries, in-room coffee and tea supplies and the use of our gym and business center included in price. Complimentary housekeeping service is provided. 24 Hour Reception and Concierge Desk. Doorman. Laundry room. Supermarket across street. Approx 11% NYC taxes to be paid directly to host.\n",
      "\n",
      "https://a0.muscache.com/pictures/8fda0c73-1dc4-45e9-b9e8-f32e1d17884e.jpg\n",
      "\n",
      "Lovely midtown one bedroom\n",
      "\n",
      "200.0\n",
      "\n",
      "Furnished one bedroom with private bath and fully equipped kitchen in Midtown. 3 blocks from Grand Central Station. Sleeps up to 4. All utilities, cable, wifi, local calls, complimentary weekly linen service, toiletries, in-room coffee and tea supplies and the use of our gym and business center included in price. Complimentary housekeeping service is provided. 24 Hour Reception and Concierge Desk. Doorman. Laundry room. Supermarket across street. Approx 11% NYC taxes to be paid directly to host.\n",
      "\n",
      "https://a0.muscache.com/pictures/feccab38-50ce-4718-b1d4-db9fa88bf262.jpg\n",
      "\n",
      "Splendid Midtown one bedroom beauty\n",
      "\n",
      "200.0\n",
      "\n",
      "Furnished one bedroom with private bath and fully equipped kitchen in Midtown. 3 blocks from Grand Central Station. Sleeps up to 4. All utilities, cable, wifi, local calls, complimentary weekly linen service, toiletries, in-room coffee and tea supplies and the use of our gym and business center included in price. Complimentary housekeeping service is provided. 24 Hour Reception and Concierge Desk. Doorman. Laundry room. Supermarket across street. Approx 11% NYC taxes to be paid directly to host.\n",
      "\n",
      "https://a0.muscache.com/pictures/feccab38-50ce-4718-b1d4-db9fa88bf262.jpg\n",
      "\n",
      "Furnished one bedroom beauty in midtown NYC\n",
      "\n",
      "200.0\n",
      "\n",
      "Furnished one bedroom with private bath and  fully equipped kitchen in Midtown. 3 blocks from Grand Central Station. Sleeps up to 4.All utilities, cable, wifi, local calls, complimentary weekly linen service, toiletries, in-room coffee and tea supplies and the use of our gym and business center included in price. Complimentary housekeeping service is provided. 24 Hour Reception and Concierge Desk. Doorman.Laundry room. Supermarket across street. Approx 9.5% NYC taxes to be paid directly to host.\n",
      "\n",
      "https://a0.muscache.com/pictures/52e80f48-2a87-4017-b3ba-a4eedacf1d71.jpg\n",
      "\n",
      "Exceptional midtown one bedroom apartment\n",
      "\n",
      "200.0\n",
      "\n",
      "Furnished one bedroom with private bath and fully equipped kitchen in Midtown. 3 blocks from Grand Central Station. Sleeps up to 4. All utilities, cable, wifi, local calls, complimentary weekly linen service, toiletries, in-room coffee and tea supplies and the use of our gym and business center included in price. Complimentary housekeeping service is provided. 24 Hour Reception and Concierge Desk. Doorman. Laundry room. Supermarket across street. Approx 11% NYC taxes to be paid directly to host.\n",
      "\n",
      "https://a0.muscache.com/pictures/feccab38-50ce-4718-b1d4-db9fa88bf262.jpg\n",
      "\n",
      "Gorgeous studio in midtown Manhattan\n",
      "\n",
      "150.0\n",
      "\n",
      "Furnished studio with private bath and fully equipped  kitchen   in midtown. 3 blocks from Grand Central Station.  24 Hour Reception and Concierge Desk. Doorman.  Laundry Room. All utilities, cable, wifi, local calls, complimentary weekly linen service, toiletries, in-room coffee and tea supplies and the use of our gym and  business center included in price. Complimentary housekeeping service is provided. Supermarket across street. Approx 11% NYC taxes to be paid directly to host.\n",
      "\n",
      "https://a0.muscache.com/pictures/ed34a2a7-df81-4bd6-9a7f-026d174d3d4d.jpg\n",
      "\n",
      "Furnished spacious  NYC studio\n",
      "\n",
      "150.0\n",
      "\n",
      "Furnished studio with private bath and fully equipped  kitchen   in midtown. 3 blocks from Grand Central Station.  24 Hour Reception and Concierge Desk. Doorman.  Laundry Room. All utilities, cable, wifi, local calls, complimentary weekly linen service, toiletries, in-room coffee and tea supplies and the use of our gym and  business center included in price. Complimentary housekeeping service is provided. Supermarket across street. Approx 11% NYC taxes to be paid  directly to host.\n",
      "\n",
      "https://a0.muscache.com/pictures/691a81f6-5fbc-4569-9fe0-d1879ee93401.jpg\n",
      "\n",
      "Beautiful midtown apartment\n",
      "\n",
      "140.0\n",
      "\n",
      "Furnished studio with private bath and fully equipped  kitchen   in midtown. 3 blocks from Grand Central Station.  24 Hour Reception and Concierge Desk. Doorman.  Laundry Room. All utilities, cable, wifi, local calls, complimentary weekly linen service, toiletries, in-room coffee and tea supplies and the use of our gym and  business center included in price. Complimentary housekeeping service is provided. Supermarket across street. Approx 9.5% NYC taxes to be paid directly to host.\n",
      "\n",
      "https://a0.muscache.com/pictures/ba3436a7-8c93-4d86-b1b9-bfdf0cdea9b9.jpg\n",
      "\n",
      "Cool studio in midtown Manhattan\n",
      "\n",
      "130.0\n",
      "\n",
      "Furnished studio with private bath and fully equipped  kitchen   in midtown. 3 blocks from Grand Central Station.  24 Hour Reception and Concierge Desk. Doorman.  Laundry Room. All utilities, cable, wifi, local calls, complimentary weekly linen service, toiletries, in-room coffee and tea supplies and the use of our gym and  business center included in price. Complimentary housekeeping service is provided. Supermarket across street. Approx 11% NYC taxes to be paid  directly to host.\n",
      "\n",
      "https://a0.muscache.com/pictures/0ced3968-bcef-49a0-b282-bf7c052d7564.jpg\n",
      "\n",
      "Comfortable studio suite in midtown Manhattan\n",
      "\n",
      "140.0\n",
      "\n",
      "Furnished studio with private bath and fully equipped  kitchen   in midtown. 3 blocks from Grand Central Station.  24 Hour Reception and Concierge Desk. Doorman.  Laundry Room. All utilities, cable, wifi, local calls, complimentary weekly linen service, toiletries, in-room coffee and tea supplies and the use of our gym and  business center included in price. Complimentary housekeeping service is provided. Supermarket across street. Approx 11% NYC taxes to be paid  directly to host.\n",
      "\n",
      "https://a0.muscache.com/pictures/8d310b29-f32c-4773-8e04-923863b0d4e7.jpg\n",
      "\n",
      "Furnished Studio in Midtown Manhattan\n",
      "\n",
      "140.0\n",
      "\n",
      "Furnished studio with private bath and fully equipped  kitchen   in midtown. 3 blocks from Grand Central Station.  24 Hour Reception and Concierge Desk. Doorman.  Laundry Room. All utilities, cable, wifi, local calls, complimentary weekly linen service, toiletries, in-room coffee and tea supplies and the use of our gym and  business center included in price. Complimentary housekeeping service is provided. Supermarket across street. Approx 11% NYC taxes to be paid directly to host.\n",
      "\n",
      "https://a0.muscache.com/pictures/36419e1b-e199-4041-9293-ae020bbbc4ba.jpg\n",
      "\n",
      "Sunny studio in midtown Manhattan\n",
      "\n",
      "130.0\n",
      "\n",
      "Furnished studio with private bath and fully equipped  kitchen   in midtown. 3 blocks from Grand Central Station.  24 Hour Reception and Concierge Desk. Doorman.  Laundry Room. All utilities, cable, wifi, local calls, complimentary weekly linen service, toiletries, in-room coffee and tea supplies and the use of our gym and  business center included in price. Complimentary housekeeping service is provided. Supermarket across street. Approx 11% NYC taxes to be paid  directly to host.\n",
      "\n",
      "https://a0.muscache.com/pictures/cf3b3c6e-25e8-4c04-b081-75548d190464.jpg\n",
      "\n",
      "Spacious studio in midtown Manhattan\n",
      "\n",
      "140.0\n",
      "\n",
      "Furnished studio with private bath and fully equipped  kitchen   in midtown. 3 blocks from Grand Central Station.  24 Hour Reception and Concierge Desk. Doorman.  Laundry Room. All utilities, cable, wifi, local calls, complimentary weekly linen service, toiletries, in-room coffee and tea supplies and the use of our gym and  business center included in price. Complimentary housekeeping service is provided. Supermarket across street. Approx 11% NYC taxes to be paid directly to host.\n",
      "\n",
      "https://a0.muscache.com/pictures/fdbb1b4d-1790-40b4-8213-ac783882d794.jpg\n",
      "\n",
      "Excellent studio in Midtown Manhattan\n",
      "\n",
      "130.0\n",
      "\n",
      "Furnished studio with private bath and fully equipped  kitchen   in midtown. 3 blocks from Grand Central Station.  24 Hour Reception and Concierge Desk. Doorman.  Laundry Room. All utilities, cable, wifi, local calls, complimentary weekly linen service, toiletries, in-room coffee and tea supplies and the use of our gym and  business center included in price. Complimentary  housekeeping service is provided. Supermarket across street. Approx 11% NYC taxes to be paid directly to host.\n",
      "\n",
      "https://a0.muscache.com/pictures/ab089ae5-6347-4c81-b0c6-80652dfe8c9f.jpg\n",
      "\n",
      "Homey studio in Midtown Manhattan\n",
      "\n",
      "140.0\n",
      "\n",
      "Furnished studio with private bath and fully equipped  kitchen   in midtown. 3 blocks from Grand Central Station.  24 Hour Reception and Concierge Desk. Doorman.  Laundry Room. All utilities, cable, wifi, local calls, complimentary weekly linen service, toiletries, in-room coffee and tea supplies and the use of our gym and  business center included in price. Complimentary housekeeping service is provided. Supermarket across street. Approx 11% NYC taxes to be paid  directly to host.\n",
      "\n",
      "https://a0.muscache.com/pictures/ac03a9e0-106b-42df-bfa4-898959b59551.jpg\n",
      "\n",
      "Pleasant studio in Midtown Manhattan\n",
      "\n",
      "130.0\n",
      "\n",
      "Furnished studio with private bath and fully equipped  kitchen   in midtown. 3 blocks from Grand Central Station.  24 Hour Reception and Concierge Desk. Doorman.  Laundry Room. All utilities, cable, wifi, local calls, complimentary weekly linen service, toiletries, in-room coffee and tea supplies and the use of our gym and  business center included in price. Complimentary housekeeping service is provided. Supermarket across street. Approx 11% NYC taxes to <br />to be paid directly to host.\n",
      "\n",
      "https://a0.muscache.com/pictures/c1e95f3b-40fc-4643-a26a-31fbed4c3e00.jpg\n",
      "\n",
      "Mid Manhattan ideal Studio\n",
      "\n",
      "140.0\n",
      "\n",
      "Furnished studio with private bath and fully equipped  kitchen   in midtown. 3 blocks from Grand Central Station.  24 Hour Reception and Concierge Desk. Doorman.  Laundry Room. All utilities, cable, wifi, local calls, complimentary weekly linen service, toiletries, in-room coffee and tea supplies and the use of our gym and  business center included in price. Complimentary housekeeping service is provided. Supermarket across street. Approx 11% NYC taxes to <br />to be paid directly to host.\n",
      "\n",
      "https://a0.muscache.com/pictures/e4f4c82d-9f48-48db-b77b-80b54b98e8c9.jpg\n",
      "\n",
      "Midtown Manhattan's Best Studio\n",
      "\n",
      "140.0\n",
      "\n",
      "Furnished studio with private bath and fully equipped  kitchen   in midtown. 3 blocks from Grand Central Station.  24 Hour Reception and Concierge Desk. Doorman.  Laundry Room. All utilities, cable, wifi, local calls, complimentary weekly linen service, toiletries, in-room coffee and tea supplies and the use of our gym and  business center included in price. Complimentary housekeeping service is provided. Supermarket across street. Approx 11% NYC taxes to <br />to be paid directly to host.\n",
      "\n",
      "https://a0.muscache.com/pictures/e4f4c82d-9f48-48db-b77b-80b54b98e8c9.jpg\n",
      "\n",
      "Spacious Studio near Chrysler Building\n",
      "\n",
      "140.0\n",
      "\n",
      "Furnished studio with private bath and fully equipped  kitchen   in midtown. 3 blocks from Grand Central Station.  24 Hour Reception and Concierge Desk. Doorman.  Laundry Room. All utilities, cable, wifi, local calls, complimentary weekly linen service, toiletries, in-room coffee and tea supplies and the use of our gym and  business center included in price. Complimentary housekeeping service is provided. Supermarket across street. Approx 11% NYC taxes to <br />to be paid directly to host.\n",
      "\n",
      "https://a0.muscache.com/pictures/e4f4c82d-9f48-48db-b77b-80b54b98e8c9.jpg\n",
      "\n",
      "Luxurious studio near NYU Hospital\n",
      "\n",
      "130.0\n",
      "\n",
      "Furnished studio with private bath and fully equipped  kitchen   in midtown. 3 blocks from Grand Central Station.  24 Hour Reception and Concierge Desk. Doorman.  Laundry Room. All utilities, cable, wifi, local calls, complimentary weekly linen service, toiletries, in-room coffee and tea supplies and the use of our gym and  business center included in price. Complimentary housekeeping service is provided. Supermarket across street. Approx 11% NYC taxes to be paid  directly to host.\n",
      "\n",
      "https://a0.muscache.com/pictures/a74ba8de-a338-4e53-8d2e-8f1a27d59896.jpg\n",
      "\n",
      "Splendid studio in midtown Manhattan\n",
      "\n",
      "130.0\n",
      "\n",
      "Furnished studio with private bath and fully equipped  kitchen   in midtown. 3 blocks from Grand Central Station.  24 Hour Reception and Concierge Desk. Doorman.  Laundry Room. All utilities, cable, wifi, local calls, complimentary weekly linen service, toiletries, in-room coffee and tea supplies and the use of our gym and  business center included in price. Complimentary housekeeping service is provided. Supermarket across street. Approx 11% NYC taxes  to be paid directly to host.\n",
      "\n",
      "https://a0.muscache.com/pictures/6ba81296-d6a9-4dba-8320-175da72b173f.jpg\n",
      "\n",
      "Splendid 1 bedroom suite in midtown Manhattan\n",
      "\n",
      "180.0\n",
      "\n",
      "Furnished one bedroom with private bath and fully equipped kitchen in Midtown. 3 blocks from Grand Central Station. Sleeps up to 4. All utilities, cable, wifi, local calls, complimentary weekly linen service, toiletries, in-room coffee and tea supplies and the use of our gym and business center included in price. Complimentary housekeeping service is provided. 24 Hour Reception and Concierge Desk. Doorman. Laundry room. Supermarket across street. Approx 11% NYC taxes to be paid directly to host.\n",
      "\n",
      "https://a0.muscache.com/pictures/0852a594-a008-4e2a-8521-97d206ec51d3.jpg\n",
      "\n",
      "Special one bedroom in midtown Manhattan\n",
      "\n",
      "180.0\n",
      "\n",
      "Furnished one bedroom with private bath and  fully equipped kitchen   in Midtown. 3 blocks from Grand Central Station. Sleeps up to 4.  All utilities, cable, wifi, local calls, complimentary weekly linen service, toiletries, in-room coffee and tea supplies and the use of our gym and business center included in price. Complimentary housekeeping is provided. 24 Hour Reception and Concierge Desk. Doorman.  Laundry room. Supermarket across street. Approx 9.5% NYC taxes to be paid directly to host.\n",
      "\n",
      "https://a0.muscache.com/pictures/aa388027-e67f-4c43-a478-d8e095c2735e.jpg\n",
      "\n",
      "A cozy room in Lower East Manhattan\n",
      "\n",
      "147.0\n",
      "\n",
      "The apartment is pretty new with doorman and elevator, the laundry is on spot in the first floor.  The room is cozy with a queensize bed.  The kitchen is full-equipped.  The bath room is clean with 24 hour hot water.  WIFI is incluede.\n",
      "\n",
      "https://a0.muscache.com/pictures/9484c5ea-9def-489c-bfc9-c42033d05ef0.jpg\n",
      "\n",
      "Adorable midtown studio\n",
      "\n",
      "140.0\n",
      "\n",
      "Furnished studio with private bath and fully equipped  kitchen   in midtown. 3 blocks from Grand Central Station.  24 Hour Reception and Concierge Desk. Doorman.  Laundry Room. All utilities, cable, wifi, local calls, complimentary weekly linen service, toiletries, in-room coffee and tea supplies and the use of our gym and  business center included in price. Housekeeping service is available for extra  fee. Supermarket across street. Approx 11% NYC taxes to be paid directly to host.\n",
      "\n",
      "https://a0.muscache.com/pictures/10687100-0d44-4efa-b55c-0ed791b6b54c.jpg\n",
      "\n",
      "Immaculate Junior 1 Bedroom Suite  in Manhattan\n",
      "\n",
      "150.0\n",
      "\n",
      "Furnished Junior 1 Bedroom suite with private bath and fully  equipped kitchen  in midtown . 3 blocks from Grand Central Station  . All utilities, cable, wifi, local calls, complimentary weekly linen service, toiletries, in-room coffee and tea supplies and access to gym and business center included in price.  Complimentary housekeeping service is provided. 24 Hour Reception Desk. Doorman. Laundry  room. Supermarket across the street.  Approx 9.5% NYC taxes to be paid directly to the host\n",
      "\n",
      "https://a0.muscache.com/pictures/00dd4856-f867-4bb0-ac6b-a53b1aba8598.jpg\n",
      "\n",
      "Sunny 1 bedroom suite in midtown Manhattan\n",
      "\n",
      "180.0\n",
      "\n",
      "Furnished one bedroom with private bath and  fully equipped kitchen in Midtown. 3 blocks from Grand Central Station. Sleeps up to 4.All utilities, cable, wifi, local calls, complimentary weekly linen service, toiletries, in-room coffee and tea supplies and the use of our gym and business center included in price. Complimentary housekeeping service is provided. 24 Hour Reception and Concierge Desk. Doorman.Laundry room. Supermarket across street. Approx 9.5% NYC taxes to be paid directly to host.\n",
      "\n",
      "https://a0.muscache.com/pictures/0bd5be68-012f-46b6-9a61-b60940426856.jpg\n",
      "\n",
      "Bright Junior 1 bedroom Suite in the heart of NYC\n",
      "\n",
      "150.0\n",
      "\n",
      "Furnished Junior 1 Bdr suite with private bath and fully equipped kitchen in midtown. 3 blocks from Grand Central Station. All utilities, cable, wifi, local calls, complimentary weekly linen service, toiletries, in-room coffee and tea supplies and access to gym and business center included in price. Complimentary housekeeping service is provided. Doorman.  24 Hour Reception and Concierge Desk. Laundry room. Supermarket across the street.  Approx 9.5% NYC taxes to be paid directly to host.\n",
      "\n",
      "https://a0.muscache.com/pictures/7080ee50-00c9-4831-988e-531de6e5276a.jpg\n",
      "\n",
      "Superior Junior 1 bedroom apt. in the heart of NYC\n",
      "\n",
      "150.0\n",
      "\n",
      "Furnished Junior 1 bedroom suite  with private bath and  fully equipped kitchen in midtown. 3 blocks from Grand Central Station. Sleeps up to 3. Utilities, cable, wifi, local calls, free weekly linen service, toiletries, in-room coffee and tea supplies and access to gym and business center included. Complimentary housekeeping service is provided. Doorman. 24 Hour Reception and Concierge Desk. Laundry room. Supermarket across  street.  Approx 9.5% NYC taxes to be paid directly to the property\n",
      "\n",
      "https://a0.muscache.com/pictures/miso/Hosting-19933967/original/9c0a18f9-372c-4c71-89cd-b3b4cd85811b.jpeg\n",
      "\n",
      "Exceptional Junior One Bedroom  Suite  in Midtown\n",
      "\n",
      "150.0\n",
      "\n",
      "Furnished Junior 1 Bedroom  suite  with private bath and fully equipped kitchen  in midtown. 3 blocks from Grand Central Station and close to UN.  All utilities, cable, wifi, local calls, free  weekly linen service, toiletries, in-room coffee and tea supplies and access to gym and business center included in price. Complimentary housekeeping service is provided. Doorman. 24 Hour Reception and Concierge Desk. Supermarket across the street.  Approx 9.5% NYC taxes to be paid directly to host.\n",
      "\n",
      "https://a0.muscache.com/pictures/3231f511-75fe-46fa-861b-5a99a921f034.jpg\n",
      "\n",
      "Special Junior 1 bedroom suite in the heart of NYC\n",
      "\n",
      "140.0\n",
      "\n",
      "Furnished Junior 1 Bdr Suite  with private bath and  fully equipped kitchen in midtown. 3 blocks from Grand Central Station. All utilities, cable, wifi, local calls,  weekly linen service, toiletries, in-room coffee and tea supplies and access to gym and business center included in price. Complimentary housekeeping service is provided. Doorman and 24 Hour Reception and Concierge Desk. Onsite laundry room. Supermarket across  street.  Approx 9.5% NYC taxes to be paid directly to the property.\n",
      "\n",
      "https://a0.muscache.com/pictures/miso/Hosting-19933967/original/9c0a18f9-372c-4c71-89cd-b3b4cd85811b.jpeg\n",
      "\n",
      "Neat Junior 1 Bedroom Suite  in the heart of NYC\n",
      "\n",
      "150.0\n",
      "\n",
      "Furnished Junior 1 Bdr Suite  with private bath and  fully equipped kitchen in midtown. 3 blocks from Grand Central Station. All utilities, cable, wifi, local calls,  weekly linen service, toiletries, in-room coffee and tea supplies and access to gym and business center included in price. Complimentary housekeeping service is provided. Doorman and 24 Hour Reception and Concierge Desk. Onsite laundry room. Supermarket across  street.  Approx 9.5% NYC taxes to be paid directly to the property.\n",
      "\n",
      "https://a0.muscache.com/pictures/7080ee50-00c9-4831-988e-531de6e5276a.jpg\n",
      "\n"
     ]
    }
   ],
   "source": [
    "for _, row in recommended_listings.iterrows():\n",
    "    print(f\"{row['name']}\\n\")\n",
    "    print(f\"{row['price']}\\n\")\n",
    "    print(f\"{row['description']}\\n\")\n",
    "    print(f\"{row['picture_url']}\\n\")"
   ]
  },
  {
   "cell_type": "code",
   "execution_count": 102,
   "metadata": {},
   "outputs": [
    {
     "data": {
      "text/plain": [
       "['knn_model.pkl']"
      ]
     },
     "execution_count": 102,
     "metadata": {},
     "output_type": "execute_result"
    }
   ],
   "source": [
    "joblib.dump(knn_model, 'knn_model.pkl')"
   ]
  }
 ],
 "metadata": {
  "kernelspec": {
   "display_name": "Python 3",
   "language": "python",
   "name": "python3"
  },
  "language_info": {
   "codemirror_mode": {
    "name": "ipython",
    "version": 3
   },
   "file_extension": ".py",
   "mimetype": "text/x-python",
   "name": "python",
   "nbconvert_exporter": "python",
   "pygments_lexer": "ipython3",
   "version": "3.11.6"
  }
 },
 "nbformat": 4,
 "nbformat_minor": 2
}
