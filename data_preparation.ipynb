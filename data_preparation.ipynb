{
 "cells": [
  {
   "cell_type": "markdown",
   "metadata": {},
   "source": [
    "# Data preparation (listings.csv)"
   ]
  },
  {
   "cell_type": "code",
   "execution_count": 1,
   "metadata": {},
   "outputs": [],
   "source": [
    "import pandas as pd\n",
    "import numpy as np\n",
    "from langdetect import detect\n",
    "from tqdm import tqdm\n",
    "from deep_translator import GoogleTranslator"
   ]
  },
  {
   "cell_type": "code",
   "execution_count": 2,
   "metadata": {},
   "outputs": [
    {
     "data": {
      "text/plain": [
       "Index(['id', 'listing_url', 'scrape_id', 'last_scraped', 'source', 'name',\n",
       "       'description', 'neighborhood_overview', 'picture_url', 'host_id',\n",
       "       'host_url', 'host_name', 'host_since', 'host_location', 'host_about',\n",
       "       'host_response_time', 'host_response_rate', 'host_acceptance_rate',\n",
       "       'host_is_superhost', 'host_thumbnail_url', 'host_picture_url',\n",
       "       'host_neighbourhood', 'host_listings_count',\n",
       "       'host_total_listings_count', 'host_verifications',\n",
       "       'host_has_profile_pic', 'host_identity_verified', 'neighbourhood',\n",
       "       'neighbourhood_cleansed', 'neighbourhood_group_cleansed', 'latitude',\n",
       "       'longitude', 'property_type', 'room_type', 'accommodates', 'bathrooms',\n",
       "       'bathrooms_text', 'bedrooms', 'beds', 'amenities', 'price',\n",
       "       'minimum_nights', 'maximum_nights', 'minimum_minimum_nights',\n",
       "       'maximum_minimum_nights', 'minimum_maximum_nights',\n",
       "       'maximum_maximum_nights', 'minimum_nights_avg_ntm',\n",
       "       'maximum_nights_avg_ntm', 'calendar_updated', 'has_availability',\n",
       "       'availability_30', 'availability_60', 'availability_90',\n",
       "       'availability_365', 'calendar_last_scraped', 'number_of_reviews',\n",
       "       'number_of_reviews_ltm', 'number_of_reviews_l30d', 'first_review',\n",
       "       'last_review', 'review_scores_rating', 'review_scores_accuracy',\n",
       "       'review_scores_cleanliness', 'review_scores_checkin',\n",
       "       'review_scores_communication', 'review_scores_location',\n",
       "       'review_scores_value', 'license', 'instant_bookable',\n",
       "       'calculated_host_listings_count',\n",
       "       'calculated_host_listings_count_entire_homes',\n",
       "       'calculated_host_listings_count_private_rooms',\n",
       "       'calculated_host_listings_count_shared_rooms', 'reviews_per_month'],\n",
       "      dtype='object')"
      ]
     },
     "execution_count": 2,
     "metadata": {},
     "output_type": "execute_result"
    }
   ],
   "source": [
    "# csvfile_path = \"./Amsterdam/listings-1.csv\"\n",
    "csvfile_path = \"./NewYork/listings.csv\"\n",
    "listings_csv_data = pd.read_csv(csvfile_path)\n",
    "listings_csv_data.columns"
   ]
  },
  {
   "cell_type": "code",
   "execution_count": 3,
   "metadata": {},
   "outputs": [
    {
     "data": {
      "text/plain": [
       "Index(['id', 'listing_url', 'name', 'description', 'neighborhood_overview',\n",
       "       'picture_url', 'host_name', 'host_since', 'host_location', 'host_about',\n",
       "       'host_response_time', 'host_response_rate', 'host_acceptance_rate',\n",
       "       'host_is_superhost', 'host_thumbnail_url', 'host_picture_url',\n",
       "       'host_neighbourhood', 'host_verifications', 'neighbourhood_cleansed',\n",
       "       'latitude', 'longitude', 'property_type', 'room_type', 'accommodates',\n",
       "       'bathrooms', 'bathrooms_text', 'bedrooms', 'beds', 'amenities', 'price',\n",
       "       'minimum_nights', 'maximum_nights', 'has_availability',\n",
       "       'number_of_reviews', 'number_of_reviews_ltm', 'number_of_reviews_l30d',\n",
       "       'first_review', 'last_review', 'review_scores_rating',\n",
       "       'review_scores_accuracy', 'review_scores_cleanliness',\n",
       "       'review_scores_checkin', 'review_scores_communication',\n",
       "       'review_scores_location', 'review_scores_value', 'license',\n",
       "       'instant_bookable', 'calculated_host_listings_count',\n",
       "       'calculated_host_listings_count_entire_homes',\n",
       "       'calculated_host_listings_count_private_rooms',\n",
       "       'calculated_host_listings_count_shared_rooms', 'reviews_per_month'],\n",
       "      dtype='object')"
      ]
     },
     "execution_count": 3,
     "metadata": {},
     "output_type": "execute_result"
    }
   ],
   "source": [
    "cols_to_remove = ['scrape_id', 'last_scraped', 'source', 'host_id', 'host_url',\n",
    "       'host_listings_count', 'host_total_listings_count', 'neighbourhood',\n",
    "       'host_has_profile_pic', 'host_identity_verified', 'calendar_updated',\n",
    "       'availability_30', 'availability_60', 'availability_90', 'availability_365',\n",
    "       'calendar_last_scraped', 'minimum_minimum_nights', 'maximum_minimum_nights',\n",
    "       'minimum_maximum_nights', 'maximum_maximum_nights', 'minimum_nights_avg_ntm',\n",
    "       'maximum_nights_avg_ntm', 'neighbourhood_group_cleansed']\n",
    "\n",
    "listings_csv_data.drop(cols_to_remove, axis=1, inplace=True)\n",
    "listings_csv_data.columns"
   ]
  },
  {
   "cell_type": "code",
   "execution_count": 27,
   "metadata": {},
   "outputs": [
    {
     "data": {
      "text/html": [
       "<div>\n",
       "<style scoped>\n",
       "    .dataframe tbody tr th:only-of-type {\n",
       "        vertical-align: middle;\n",
       "    }\n",
       "\n",
       "    .dataframe tbody tr th {\n",
       "        vertical-align: top;\n",
       "    }\n",
       "\n",
       "    .dataframe thead th {\n",
       "        text-align: right;\n",
       "    }\n",
       "</style>\n",
       "<table border=\"1\" class=\"dataframe\">\n",
       "  <thead>\n",
       "    <tr style=\"text-align: right;\">\n",
       "      <th></th>\n",
       "      <th>id</th>\n",
       "      <th>latitude</th>\n",
       "      <th>longitude</th>\n",
       "      <th>accommodates</th>\n",
       "      <th>bathrooms</th>\n",
       "      <th>bedrooms</th>\n",
       "      <th>beds</th>\n",
       "      <th>minimum_nights</th>\n",
       "      <th>maximum_nights</th>\n",
       "      <th>number_of_reviews</th>\n",
       "      <th>number_of_reviews_ltm</th>\n",
       "      <th>number_of_reviews_l30d</th>\n",
       "      <th>review_scores_rating</th>\n",
       "      <th>calculated_host_listings_count</th>\n",
       "      <th>calculated_host_listings_count_entire_homes</th>\n",
       "      <th>calculated_host_listings_count_private_rooms</th>\n",
       "      <th>calculated_host_listings_count_shared_rooms</th>\n",
       "      <th>reviews_per_month</th>\n",
       "    </tr>\n",
       "  </thead>\n",
       "  <tbody>\n",
       "    <tr>\n",
       "      <th>count</th>\n",
       "      <td>3.754100e+04</td>\n",
       "      <td>37541.000000</td>\n",
       "      <td>37541.000000</td>\n",
       "      <td>37541.000000</td>\n",
       "      <td>22790.000000</td>\n",
       "      <td>31700.000000</td>\n",
       "      <td>22655.000000</td>\n",
       "      <td>37541.00000</td>\n",
       "      <td>3.754100e+04</td>\n",
       "      <td>37541.00000</td>\n",
       "      <td>37541.000000</td>\n",
       "      <td>37541.000000</td>\n",
       "      <td>26001.000000</td>\n",
       "      <td>37541.000000</td>\n",
       "      <td>37541.000000</td>\n",
       "      <td>37541.000000</td>\n",
       "      <td>37541.000000</td>\n",
       "      <td>26001.000000</td>\n",
       "    </tr>\n",
       "    <tr>\n",
       "      <th>mean</th>\n",
       "      <td>3.783277e+17</td>\n",
       "      <td>40.728722</td>\n",
       "      <td>-73.946982</td>\n",
       "      <td>2.760262</td>\n",
       "      <td>1.187297</td>\n",
       "      <td>1.385363</td>\n",
       "      <td>1.631296</td>\n",
       "      <td>28.98162</td>\n",
       "      <td>5.831645e+04</td>\n",
       "      <td>25.23449</td>\n",
       "      <td>3.564450</td>\n",
       "      <td>0.295171</td>\n",
       "      <td>4.725152</td>\n",
       "      <td>56.169974</td>\n",
       "      <td>29.927972</td>\n",
       "      <td>24.236701</td>\n",
       "      <td>0.058363</td>\n",
       "      <td>0.892457</td>\n",
       "    </tr>\n",
       "    <tr>\n",
       "      <th>std</th>\n",
       "      <td>4.643902e+17</td>\n",
       "      <td>0.056340</td>\n",
       "      <td>0.054604</td>\n",
       "      <td>1.925977</td>\n",
       "      <td>0.551219</td>\n",
       "      <td>0.941462</td>\n",
       "      <td>1.202048</td>\n",
       "      <td>30.70918</td>\n",
       "      <td>1.108398e+07</td>\n",
       "      <td>60.17222</td>\n",
       "      <td>16.978104</td>\n",
       "      <td>1.688346</td>\n",
       "      <td>0.442850</td>\n",
       "      <td>170.598777</td>\n",
       "      <td>136.427099</td>\n",
       "      <td>107.796624</td>\n",
       "      <td>0.547701</td>\n",
       "      <td>1.864734</td>\n",
       "    </tr>\n",
       "    <tr>\n",
       "      <th>min</th>\n",
       "      <td>2.595000e+03</td>\n",
       "      <td>40.500366</td>\n",
       "      <td>-74.251907</td>\n",
       "      <td>1.000000</td>\n",
       "      <td>0.000000</td>\n",
       "      <td>0.000000</td>\n",
       "      <td>0.000000</td>\n",
       "      <td>1.00000</td>\n",
       "      <td>1.000000e+00</td>\n",
       "      <td>0.00000</td>\n",
       "      <td>0.000000</td>\n",
       "      <td>0.000000</td>\n",
       "      <td>0.000000</td>\n",
       "      <td>1.000000</td>\n",
       "      <td>0.000000</td>\n",
       "      <td>0.000000</td>\n",
       "      <td>0.000000</td>\n",
       "      <td>0.010000</td>\n",
       "    </tr>\n",
       "    <tr>\n",
       "      <th>25%</th>\n",
       "      <td>2.063928e+07</td>\n",
       "      <td>40.688491</td>\n",
       "      <td>-73.983108</td>\n",
       "      <td>2.000000</td>\n",
       "      <td>1.000000</td>\n",
       "      <td>1.000000</td>\n",
       "      <td>1.000000</td>\n",
       "      <td>30.00000</td>\n",
       "      <td>1.500000e+02</td>\n",
       "      <td>0.00000</td>\n",
       "      <td>0.000000</td>\n",
       "      <td>0.000000</td>\n",
       "      <td>4.640000</td>\n",
       "      <td>1.000000</td>\n",
       "      <td>0.000000</td>\n",
       "      <td>0.000000</td>\n",
       "      <td>0.000000</td>\n",
       "      <td>0.090000</td>\n",
       "    </tr>\n",
       "    <tr>\n",
       "      <th>50%</th>\n",
       "      <td>4.866104e+07</td>\n",
       "      <td>40.726090</td>\n",
       "      <td>-73.954540</td>\n",
       "      <td>2.000000</td>\n",
       "      <td>1.000000</td>\n",
       "      <td>1.000000</td>\n",
       "      <td>1.000000</td>\n",
       "      <td>30.00000</td>\n",
       "      <td>3.650000e+02</td>\n",
       "      <td>3.00000</td>\n",
       "      <td>0.000000</td>\n",
       "      <td>0.000000</td>\n",
       "      <td>4.850000</td>\n",
       "      <td>2.000000</td>\n",
       "      <td>1.000000</td>\n",
       "      <td>1.000000</td>\n",
       "      <td>0.000000</td>\n",
       "      <td>0.320000</td>\n",
       "    </tr>\n",
       "    <tr>\n",
       "      <th>75%</th>\n",
       "      <td>8.450413e+17</td>\n",
       "      <td>40.762380</td>\n",
       "      <td>-73.927800</td>\n",
       "      <td>4.000000</td>\n",
       "      <td>1.000000</td>\n",
       "      <td>2.000000</td>\n",
       "      <td>2.000000</td>\n",
       "      <td>30.00000</td>\n",
       "      <td>1.125000e+03</td>\n",
       "      <td>21.00000</td>\n",
       "      <td>2.000000</td>\n",
       "      <td>0.000000</td>\n",
       "      <td>5.000000</td>\n",
       "      <td>8.000000</td>\n",
       "      <td>2.000000</td>\n",
       "      <td>2.000000</td>\n",
       "      <td>0.000000</td>\n",
       "      <td>1.070000</td>\n",
       "    </tr>\n",
       "    <tr>\n",
       "      <th>max</th>\n",
       "      <td>1.237702e+18</td>\n",
       "      <td>40.911390</td>\n",
       "      <td>-73.713650</td>\n",
       "      <td>16.000000</td>\n",
       "      <td>15.500000</td>\n",
       "      <td>16.000000</td>\n",
       "      <td>42.000000</td>\n",
       "      <td>1250.00000</td>\n",
       "      <td>2.147484e+09</td>\n",
       "      <td>1941.00000</td>\n",
       "      <td>1772.000000</td>\n",
       "      <td>147.000000</td>\n",
       "      <td>5.000000</td>\n",
       "      <td>876.000000</td>\n",
       "      <td>876.000000</td>\n",
       "      <td>719.000000</td>\n",
       "      <td>12.000000</td>\n",
       "      <td>110.100000</td>\n",
       "    </tr>\n",
       "  </tbody>\n",
       "</table>\n",
       "</div>"
      ],
      "text/plain": [
       "                 id      latitude     longitude  accommodates     bathrooms  \\\n",
       "count  3.754100e+04  37541.000000  37541.000000  37541.000000  22790.000000   \n",
       "mean   3.783277e+17     40.728722    -73.946982      2.760262      1.187297   \n",
       "std    4.643902e+17      0.056340      0.054604      1.925977      0.551219   \n",
       "min    2.595000e+03     40.500366    -74.251907      1.000000      0.000000   \n",
       "25%    2.063928e+07     40.688491    -73.983108      2.000000      1.000000   \n",
       "50%    4.866104e+07     40.726090    -73.954540      2.000000      1.000000   \n",
       "75%    8.450413e+17     40.762380    -73.927800      4.000000      1.000000   \n",
       "max    1.237702e+18     40.911390    -73.713650     16.000000     15.500000   \n",
       "\n",
       "           bedrooms          beds  minimum_nights  maximum_nights  \\\n",
       "count  31700.000000  22655.000000     37541.00000    3.754100e+04   \n",
       "mean       1.385363      1.631296        28.98162    5.831645e+04   \n",
       "std        0.941462      1.202048        30.70918    1.108398e+07   \n",
       "min        0.000000      0.000000         1.00000    1.000000e+00   \n",
       "25%        1.000000      1.000000        30.00000    1.500000e+02   \n",
       "50%        1.000000      1.000000        30.00000    3.650000e+02   \n",
       "75%        2.000000      2.000000        30.00000    1.125000e+03   \n",
       "max       16.000000     42.000000      1250.00000    2.147484e+09   \n",
       "\n",
       "       number_of_reviews  number_of_reviews_ltm  number_of_reviews_l30d  \\\n",
       "count        37541.00000           37541.000000            37541.000000   \n",
       "mean            25.23449               3.564450                0.295171   \n",
       "std             60.17222              16.978104                1.688346   \n",
       "min              0.00000               0.000000                0.000000   \n",
       "25%              0.00000               0.000000                0.000000   \n",
       "50%              3.00000               0.000000                0.000000   \n",
       "75%             21.00000               2.000000                0.000000   \n",
       "max           1941.00000            1772.000000              147.000000   \n",
       "\n",
       "       review_scores_rating  calculated_host_listings_count  \\\n",
       "count          26001.000000                    37541.000000   \n",
       "mean               4.725152                       56.169974   \n",
       "std                0.442850                      170.598777   \n",
       "min                0.000000                        1.000000   \n",
       "25%                4.640000                        1.000000   \n",
       "50%                4.850000                        2.000000   \n",
       "75%                5.000000                        8.000000   \n",
       "max                5.000000                      876.000000   \n",
       "\n",
       "       calculated_host_listings_count_entire_homes  \\\n",
       "count                                 37541.000000   \n",
       "mean                                     29.927972   \n",
       "std                                     136.427099   \n",
       "min                                       0.000000   \n",
       "25%                                       0.000000   \n",
       "50%                                       1.000000   \n",
       "75%                                       2.000000   \n",
       "max                                     876.000000   \n",
       "\n",
       "       calculated_host_listings_count_private_rooms  \\\n",
       "count                                  37541.000000   \n",
       "mean                                      24.236701   \n",
       "std                                      107.796624   \n",
       "min                                        0.000000   \n",
       "25%                                        0.000000   \n",
       "50%                                        1.000000   \n",
       "75%                                        2.000000   \n",
       "max                                      719.000000   \n",
       "\n",
       "       calculated_host_listings_count_shared_rooms  reviews_per_month  \n",
       "count                                 37541.000000       26001.000000  \n",
       "mean                                      0.058363           0.892457  \n",
       "std                                       0.547701           1.864734  \n",
       "min                                       0.000000           0.010000  \n",
       "25%                                       0.000000           0.090000  \n",
       "50%                                       0.000000           0.320000  \n",
       "75%                                       0.000000           1.070000  \n",
       "max                                      12.000000         110.100000  "
      ]
     },
     "execution_count": 27,
     "metadata": {},
     "output_type": "execute_result"
    }
   ],
   "source": [
    "listings_csv_data.describe()"
   ]
  },
  {
   "cell_type": "code",
   "execution_count": 4,
   "metadata": {},
   "outputs": [
    {
     "data": {
      "text/plain": [
       "(37541, 52)"
      ]
     },
     "execution_count": 4,
     "metadata": {},
     "output_type": "execute_result"
    }
   ],
   "source": [
    "listings_csv_data.shape"
   ]
  },
  {
   "cell_type": "code",
   "execution_count": 38,
   "metadata": {},
   "outputs": [
    {
     "data": {
      "text/plain": [
       "id                                                  0\n",
       "listing_url                                         0\n",
       "name                                                2\n",
       "description                                      1320\n",
       "neighborhood_overview                           16650\n",
       "picture_url                                         1\n",
       "host_name                                           5\n",
       "host_since                                          5\n",
       "host_location                                    8079\n",
       "host_about                                      16247\n",
       "host_response_time                              14897\n",
       "host_response_rate                              14897\n",
       "host_acceptance_rate                            14311\n",
       "host_is_superhost                                 429\n",
       "host_thumbnail_url                                  5\n",
       "host_picture_url                                    5\n",
       "host_neighbourhood                               7515\n",
       "host_verifications                                  5\n",
       "neighbourhood_cleansed                              0\n",
       "latitude                                            0\n",
       "longitude                                           0\n",
       "property_type                                       0\n",
       "room_type                                           0\n",
       "accommodates                                        0\n",
       "bathrooms                                       14751\n",
       "bathrooms_text                                     32\n",
       "bedrooms                                         5841\n",
       "beds                                            14886\n",
       "amenities                                           0\n",
       "price                                           14751\n",
       "minimum_nights                                      0\n",
       "maximum_nights                                      0\n",
       "has_availability                                 5385\n",
       "number_of_reviews                                   0\n",
       "number_of_reviews_ltm                               0\n",
       "number_of_reviews_l30d                              0\n",
       "first_review                                    11540\n",
       "last_review                                     11540\n",
       "review_scores_rating                            11540\n",
       "license                                         32200\n",
       "instant_bookable                                    0\n",
       "calculated_host_listings_count                      0\n",
       "calculated_host_listings_count_entire_homes         0\n",
       "calculated_host_listings_count_private_rooms        0\n",
       "calculated_host_listings_count_shared_rooms         0\n",
       "reviews_per_month                               11540\n",
       "dtype: int64"
      ]
     },
     "execution_count": 38,
     "metadata": {},
     "output_type": "execute_result"
    }
   ],
   "source": [
    "listings_csv_data.isnull().sum()"
   ]
  },
  {
   "cell_type": "code",
   "execution_count": 39,
   "metadata": {},
   "outputs": [
    {
     "data": {
      "text/plain": [
       "id                                                int64\n",
       "listing_url                                      object\n",
       "name                                             object\n",
       "description                                      object\n",
       "neighborhood_overview                            object\n",
       "picture_url                                      object\n",
       "host_name                                        object\n",
       "host_since                                       object\n",
       "host_location                                    object\n",
       "host_about                                       object\n",
       "host_response_time                               object\n",
       "host_response_rate                               object\n",
       "host_acceptance_rate                             object\n",
       "host_is_superhost                                object\n",
       "host_thumbnail_url                               object\n",
       "host_picture_url                                 object\n",
       "host_neighbourhood                               object\n",
       "host_verifications                               object\n",
       "neighbourhood_cleansed                           object\n",
       "latitude                                        float64\n",
       "longitude                                       float64\n",
       "property_type                                    object\n",
       "room_type                                        object\n",
       "accommodates                                      int64\n",
       "bathrooms                                       float64\n",
       "bathrooms_text                                   object\n",
       "bedrooms                                        float64\n",
       "beds                                            float64\n",
       "amenities                                        object\n",
       "price                                            object\n",
       "minimum_nights                                    int64\n",
       "maximum_nights                                    int64\n",
       "has_availability                                 object\n",
       "number_of_reviews                                 int64\n",
       "number_of_reviews_ltm                             int64\n",
       "number_of_reviews_l30d                            int64\n",
       "first_review                                     object\n",
       "last_review                                      object\n",
       "review_scores_rating                            float64\n",
       "license                                          object\n",
       "instant_bookable                                 object\n",
       "calculated_host_listings_count                    int64\n",
       "calculated_host_listings_count_entire_homes       int64\n",
       "calculated_host_listings_count_private_rooms      int64\n",
       "calculated_host_listings_count_shared_rooms       int64\n",
       "reviews_per_month                               float64\n",
       "dtype: object"
      ]
     },
     "execution_count": 39,
     "metadata": {},
     "output_type": "execute_result"
    }
   ],
   "source": [
    "listings_csv_data.dtypes"
   ]
  },
  {
   "cell_type": "code",
   "execution_count": 5,
   "metadata": {},
   "outputs": [],
   "source": [
    "def replace_missing(df):\n",
    "    if 'price' in df.columns:\n",
    "        df['price'] = df['price'].replace('[\\$,]', '', regex=True).astype(float)\n",
    "    \n",
    "    text_columns = [\n",
    "        'host_name', 'host_since', 'host_location', 'host_about',\n",
    "        'host_response_time', 'host_response_rate', 'host_acceptance_rate',\n",
    "        'host_is_superhost', 'host_thumbnail_url', 'host_picture_url',\n",
    "        'host_neighbourhood', 'neighbourhood_cleansed', 'neighborhood_overview',\n",
    "        'property_type', 'room_type', 'license', 'instant_bookable'\n",
    "    ]\n",
    "\n",
    "    for col in text_columns:\n",
    "        if col in df.columns:\n",
    "            df[col] = df[col].fillna('missing')\n",
    "    \n",
    "    numeric_columns = {\n",
    "        'bathrooms': 'mode',\n",
    "        'bedrooms': 'mode',\n",
    "        'beds': 'mode',\n",
    "        'price': 'median',\n",
    "        'minimum_nights': 'median',\n",
    "        'maximum_nights': 'median',\n",
    "        'number_of_reviews': 'median',\n",
    "        'review_scores_rating': 'median',\n",
    "        'reviews_per_month': 'median'\n",
    "    }\n",
    "    \n",
    "    for col, method in numeric_columns.items():\n",
    "        if col in df.columns:\n",
    "            if method == 'mode':\n",
    "                mode_val = df[col].mode().iloc[0] if not df[col].mode().empty else 0\n",
    "                df[col] = df[col].fillna(mode_val)\n",
    "            elif method == 'median':\n",
    "                median_val = df[col].median()\n",
    "                df[col] = df[col].fillna(median_val)\n",
    "    \n",
    "    return df\n"
   ]
  },
  {
   "cell_type": "code",
   "execution_count": 6,
   "metadata": {},
   "outputs": [],
   "source": [
    "cleaned_listings = replace_missing(listings_csv_data)\n",
    "cleaned_listings.dropna(inplace=True) # drop the remaining NaN values\n",
    "cleaned_listings.reset_index(drop=True, inplace=True)"
   ]
  },
  {
   "cell_type": "code",
   "execution_count": 42,
   "metadata": {},
   "outputs": [
    {
     "data": {
      "text/html": [
       "<div>\n",
       "<style scoped>\n",
       "    .dataframe tbody tr th:only-of-type {\n",
       "        vertical-align: middle;\n",
       "    }\n",
       "\n",
       "    .dataframe tbody tr th {\n",
       "        vertical-align: top;\n",
       "    }\n",
       "\n",
       "    .dataframe thead th {\n",
       "        text-align: right;\n",
       "    }\n",
       "</style>\n",
       "<table border=\"1\" class=\"dataframe\">\n",
       "  <thead>\n",
       "    <tr style=\"text-align: right;\">\n",
       "      <th></th>\n",
       "      <th>id</th>\n",
       "      <th>listing_url</th>\n",
       "      <th>name</th>\n",
       "      <th>description</th>\n",
       "      <th>neighborhood_overview</th>\n",
       "      <th>picture_url</th>\n",
       "      <th>host_name</th>\n",
       "      <th>host_since</th>\n",
       "      <th>host_location</th>\n",
       "      <th>host_about</th>\n",
       "      <th>...</th>\n",
       "      <th>first_review</th>\n",
       "      <th>last_review</th>\n",
       "      <th>review_scores_rating</th>\n",
       "      <th>license</th>\n",
       "      <th>instant_bookable</th>\n",
       "      <th>calculated_host_listings_count</th>\n",
       "      <th>calculated_host_listings_count_entire_homes</th>\n",
       "      <th>calculated_host_listings_count_private_rooms</th>\n",
       "      <th>calculated_host_listings_count_shared_rooms</th>\n",
       "      <th>reviews_per_month</th>\n",
       "    </tr>\n",
       "  </thead>\n",
       "  <tbody>\n",
       "    <tr>\n",
       "      <th>0</th>\n",
       "      <td>572612125615500056</td>\n",
       "      <td>https://www.airbnb.com/rooms/572612125615500056</td>\n",
       "      <td>Room by Sunny &amp; Bay! Sunset Park &amp; Bay Ridge</td>\n",
       "      <td>Cozy room in a charming Sunset Park apartment....</td>\n",
       "      <td>missing</td>\n",
       "      <td>https://a0.muscache.com/pictures/5f44a178-6043...</td>\n",
       "      <td>Joshua</td>\n",
       "      <td>2020-07-23</td>\n",
       "      <td>New York, United States</td>\n",
       "      <td>missing</td>\n",
       "      <td>...</td>\n",
       "      <td>2022-05-09</td>\n",
       "      <td>2024-07-30</td>\n",
       "      <td>4.83</td>\n",
       "      <td>missing</td>\n",
       "      <td>t</td>\n",
       "      <td>2</td>\n",
       "      <td>0</td>\n",
       "      <td>2</td>\n",
       "      <td>0</td>\n",
       "      <td>0.21</td>\n",
       "    </tr>\n",
       "    <tr>\n",
       "      <th>1</th>\n",
       "      <td>13234457</td>\n",
       "      <td>https://www.airbnb.com/rooms/13234457</td>\n",
       "      <td>Cozy Clinton Hill Crib On Classon</td>\n",
       "      <td>My place is close to Barclays Center, Alice's ...</td>\n",
       "      <td>missing</td>\n",
       "      <td>https://a0.muscache.com/pictures/011da841-7234...</td>\n",
       "      <td>Letha M.</td>\n",
       "      <td>2008-09-10</td>\n",
       "      <td>New York, NY</td>\n",
       "      <td>missing</td>\n",
       "      <td>...</td>\n",
       "      <td>2016-12-18</td>\n",
       "      <td>2017-07-31</td>\n",
       "      <td>4.00</td>\n",
       "      <td>missing</td>\n",
       "      <td>f</td>\n",
       "      <td>1</td>\n",
       "      <td>1</td>\n",
       "      <td>0</td>\n",
       "      <td>0</td>\n",
       "      <td>0.02</td>\n",
       "    </tr>\n",
       "    <tr>\n",
       "      <th>2</th>\n",
       "      <td>773237631431486588</td>\n",
       "      <td>https://www.airbnb.com/rooms/773237631431486588</td>\n",
       "      <td>Home sweet home</td>\n",
       "      <td>Relax with the whole family at this peaceful p...</td>\n",
       "      <td>missing</td>\n",
       "      <td>https://a0.muscache.com/pictures/miso/Hosting-...</td>\n",
       "      <td>Myaa</td>\n",
       "      <td>2022-04-17</td>\n",
       "      <td>missing</td>\n",
       "      <td>missing</td>\n",
       "      <td>...</td>\n",
       "      <td>2023-05-21</td>\n",
       "      <td>2023-05-21</td>\n",
       "      <td>5.00</td>\n",
       "      <td>missing</td>\n",
       "      <td>f</td>\n",
       "      <td>1</td>\n",
       "      <td>0</td>\n",
       "      <td>1</td>\n",
       "      <td>0</td>\n",
       "      <td>0.06</td>\n",
       "    </tr>\n",
       "    <tr>\n",
       "      <th>3</th>\n",
       "      <td>1097125455525075775</td>\n",
       "      <td>https://www.airbnb.com/rooms/1097125455525075775</td>\n",
       "      <td>MCM-inspired with aged brass and soothing neut...</td>\n",
       "      <td>Our beautifully arranged classic twin guest ro...</td>\n",
       "      <td>missing</td>\n",
       "      <td>https://a0.muscache.com/pictures/prohost-api/H...</td>\n",
       "      <td>The Tillary Hotel Brooklyn</td>\n",
       "      <td>2024-02-20</td>\n",
       "      <td>missing</td>\n",
       "      <td>missing</td>\n",
       "      <td>...</td>\n",
       "      <td>2024-03-01</td>\n",
       "      <td>2024-07-16</td>\n",
       "      <td>4.26</td>\n",
       "      <td>Exempt</td>\n",
       "      <td>t</td>\n",
       "      <td>7</td>\n",
       "      <td>0</td>\n",
       "      <td>7</td>\n",
       "      <td>0</td>\n",
       "      <td>3.65</td>\n",
       "    </tr>\n",
       "    <tr>\n",
       "      <th>4</th>\n",
       "      <td>760086536368275287</td>\n",
       "      <td>https://www.airbnb.com/rooms/760086536368275287</td>\n",
       "      <td>Luxury apt in the best location of E. Williams...</td>\n",
       "      <td>The apt is brand new! Features floor to ceilin...</td>\n",
       "      <td>missing</td>\n",
       "      <td>https://a0.muscache.com/pictures/fa2ee030-aa77...</td>\n",
       "      <td>Luciana</td>\n",
       "      <td>2011-06-23</td>\n",
       "      <td>New York, NY</td>\n",
       "      <td>Hi!! Ben and Lulu here! we are in tech and fas...</td>\n",
       "      <td>...</td>\n",
       "      <td>2022-11-28</td>\n",
       "      <td>2023-07-23</td>\n",
       "      <td>5.00</td>\n",
       "      <td>missing</td>\n",
       "      <td>f</td>\n",
       "      <td>1</td>\n",
       "      <td>1</td>\n",
       "      <td>0</td>\n",
       "      <td>0</td>\n",
       "      <td>0.37</td>\n",
       "    </tr>\n",
       "  </tbody>\n",
       "</table>\n",
       "<p>5 rows × 46 columns</p>\n",
       "</div>"
      ],
      "text/plain": [
       "                    id                                       listing_url  \\\n",
       "0   572612125615500056   https://www.airbnb.com/rooms/572612125615500056   \n",
       "1             13234457             https://www.airbnb.com/rooms/13234457   \n",
       "2   773237631431486588   https://www.airbnb.com/rooms/773237631431486588   \n",
       "3  1097125455525075775  https://www.airbnb.com/rooms/1097125455525075775   \n",
       "4   760086536368275287   https://www.airbnb.com/rooms/760086536368275287   \n",
       "\n",
       "                                                name  \\\n",
       "0       Room by Sunny & Bay! Sunset Park & Bay Ridge   \n",
       "1                  Cozy Clinton Hill Crib On Classon   \n",
       "2                                    Home sweet home   \n",
       "3  MCM-inspired with aged brass and soothing neut...   \n",
       "4  Luxury apt in the best location of E. Williams...   \n",
       "\n",
       "                                         description neighborhood_overview  \\\n",
       "0  Cozy room in a charming Sunset Park apartment....               missing   \n",
       "1  My place is close to Barclays Center, Alice's ...               missing   \n",
       "2  Relax with the whole family at this peaceful p...               missing   \n",
       "3  Our beautifully arranged classic twin guest ro...               missing   \n",
       "4  The apt is brand new! Features floor to ceilin...               missing   \n",
       "\n",
       "                                         picture_url  \\\n",
       "0  https://a0.muscache.com/pictures/5f44a178-6043...   \n",
       "1  https://a0.muscache.com/pictures/011da841-7234...   \n",
       "2  https://a0.muscache.com/pictures/miso/Hosting-...   \n",
       "3  https://a0.muscache.com/pictures/prohost-api/H...   \n",
       "4  https://a0.muscache.com/pictures/fa2ee030-aa77...   \n",
       "\n",
       "                    host_name  host_since            host_location  \\\n",
       "0                      Joshua  2020-07-23  New York, United States   \n",
       "1                    Letha M.  2008-09-10             New York, NY   \n",
       "2                        Myaa  2022-04-17                  missing   \n",
       "3  The Tillary Hotel Brooklyn  2024-02-20                  missing   \n",
       "4                     Luciana  2011-06-23             New York, NY   \n",
       "\n",
       "                                          host_about  ... first_review  \\\n",
       "0                                            missing  ...   2022-05-09   \n",
       "1                                            missing  ...   2016-12-18   \n",
       "2                                            missing  ...   2023-05-21   \n",
       "3                                            missing  ...   2024-03-01   \n",
       "4  Hi!! Ben and Lulu here! we are in tech and fas...  ...   2022-11-28   \n",
       "\n",
       "  last_review review_scores_rating  license instant_bookable  \\\n",
       "0  2024-07-30                 4.83  missing                t   \n",
       "1  2017-07-31                 4.00  missing                f   \n",
       "2  2023-05-21                 5.00  missing                f   \n",
       "3  2024-07-16                 4.26   Exempt                t   \n",
       "4  2023-07-23                 5.00  missing                f   \n",
       "\n",
       "  calculated_host_listings_count calculated_host_listings_count_entire_homes  \\\n",
       "0                              2                                           0   \n",
       "1                              1                                           1   \n",
       "2                              1                                           0   \n",
       "3                              7                                           0   \n",
       "4                              1                                           1   \n",
       "\n",
       "  calculated_host_listings_count_private_rooms  \\\n",
       "0                                            2   \n",
       "1                                            0   \n",
       "2                                            1   \n",
       "3                                            7   \n",
       "4                                            0   \n",
       "\n",
       "  calculated_host_listings_count_shared_rooms  reviews_per_month  \n",
       "0                                           0               0.21  \n",
       "1                                           0               0.02  \n",
       "2                                           0               0.06  \n",
       "3                                           0               3.65  \n",
       "4                                           0               0.37  \n",
       "\n",
       "[5 rows x 46 columns]"
      ]
     },
     "execution_count": 42,
     "metadata": {},
     "output_type": "execute_result"
    }
   ],
   "source": [
    "cleaned_listings.head()"
   ]
  },
  {
   "cell_type": "code",
   "execution_count": 8,
   "metadata": {},
   "outputs": [],
   "source": [
    "# cleaned_listings.to_csv('./Amsterdam/listings_cleaned.csv', index=False)\n",
    "cleaned_listings.to_csv('./NewYork/listings_cleaned_extend.csv', index=False)"
   ]
  },
  {
   "cell_type": "code",
   "execution_count": 7,
   "metadata": {},
   "outputs": [
    {
     "name": "stdout",
     "output_type": "stream",
     "text": [
      "<class 'pandas.core.frame.DataFrame'>\n",
      "RangeIndex: 22720 entries, 0 to 22719\n",
      "Data columns (total 52 columns):\n",
      " #   Column                                        Non-Null Count  Dtype  \n",
      "---  ------                                        --------------  -----  \n",
      " 0   id                                            22720 non-null  int64  \n",
      " 1   listing_url                                   22720 non-null  object \n",
      " 2   name                                          22720 non-null  object \n",
      " 3   description                                   22720 non-null  object \n",
      " 4   neighborhood_overview                         22720 non-null  object \n",
      " 5   picture_url                                   22720 non-null  object \n",
      " 6   host_name                                     22720 non-null  object \n",
      " 7   host_since                                    22720 non-null  object \n",
      " 8   host_location                                 22720 non-null  object \n",
      " 9   host_about                                    22720 non-null  object \n",
      " 10  host_response_time                            22720 non-null  object \n",
      " 11  host_response_rate                            22720 non-null  object \n",
      " 12  host_acceptance_rate                          22720 non-null  object \n",
      " 13  host_is_superhost                             22720 non-null  object \n",
      " 14  host_thumbnail_url                            22720 non-null  object \n",
      " 15  host_picture_url                              22720 non-null  object \n",
      " 16  host_neighbourhood                            22720 non-null  object \n",
      " 17  host_verifications                            22720 non-null  object \n",
      " 18  neighbourhood_cleansed                        22720 non-null  object \n",
      " 19  latitude                                      22720 non-null  float64\n",
      " 20  longitude                                     22720 non-null  float64\n",
      " 21  property_type                                 22720 non-null  object \n",
      " 22  room_type                                     22720 non-null  object \n",
      " 23  accommodates                                  22720 non-null  int64  \n",
      " 24  bathrooms                                     22720 non-null  float64\n",
      " 25  bathrooms_text                                22720 non-null  object \n",
      " 26  bedrooms                                      22720 non-null  float64\n",
      " 27  beds                                          22720 non-null  float64\n",
      " 28  amenities                                     22720 non-null  object \n",
      " 29  price                                         22720 non-null  float64\n",
      " 30  minimum_nights                                22720 non-null  int64  \n",
      " 31  maximum_nights                                22720 non-null  int64  \n",
      " 32  has_availability                              22720 non-null  object \n",
      " 33  number_of_reviews                             22720 non-null  int64  \n",
      " 34  number_of_reviews_ltm                         22720 non-null  int64  \n",
      " 35  number_of_reviews_l30d                        22720 non-null  int64  \n",
      " 36  first_review                                  22720 non-null  object \n",
      " 37  last_review                                   22720 non-null  object \n",
      " 38  review_scores_rating                          22720 non-null  float64\n",
      " 39  review_scores_accuracy                        22720 non-null  float64\n",
      " 40  review_scores_cleanliness                     22720 non-null  float64\n",
      " 41  review_scores_checkin                         22720 non-null  float64\n",
      " 42  review_scores_communication                   22720 non-null  float64\n",
      " 43  review_scores_location                        22720 non-null  float64\n",
      " 44  review_scores_value                           22720 non-null  float64\n",
      " 45  license                                       22720 non-null  object \n",
      " 46  instant_bookable                              22720 non-null  object \n",
      " 47  calculated_host_listings_count                22720 non-null  int64  \n",
      " 48  calculated_host_listings_count_entire_homes   22720 non-null  int64  \n",
      " 49  calculated_host_listings_count_private_rooms  22720 non-null  int64  \n",
      " 50  calculated_host_listings_count_shared_rooms   22720 non-null  int64  \n",
      " 51  reviews_per_month                             22720 non-null  float64\n",
      "dtypes: float64(14), int64(11), object(27)\n",
      "memory usage: 9.0+ MB\n"
     ]
    }
   ],
   "source": [
    "cleaned_listings.info()"
   ]
  },
  {
   "cell_type": "markdown",
   "metadata": {},
   "source": [
    "# Data preparation (reviews.csv)"
   ]
  },
  {
   "cell_type": "code",
   "execution_count": 61,
   "metadata": {},
   "outputs": [
    {
     "data": {
      "text/plain": [
       "Index(['listing_id', 'id', 'date', 'reviewer_id', 'reviewer_name', 'comments'], dtype='object')"
      ]
     },
     "execution_count": 61,
     "metadata": {},
     "output_type": "execute_result"
    }
   ],
   "source": [
    "# reviews_path = \"./Amsterdam/reviews.csv\"\n",
    "reviews_path = \"./NewYork/reviews.csv\"\n",
    "reviews_csv_data = pd.read_csv(reviews_path)\n",
    "reviews_csv_data.columns"
   ]
  },
  {
   "cell_type": "code",
   "execution_count": 62,
   "metadata": {},
   "outputs": [
    {
     "data": {
      "text/plain": [
       "listing_id         0\n",
       "id                 0\n",
       "date               0\n",
       "reviewer_id        0\n",
       "reviewer_name      3\n",
       "comments         234\n",
       "dtype: int64"
      ]
     },
     "execution_count": 62,
     "metadata": {},
     "output_type": "execute_result"
    }
   ],
   "source": [
    "reviews_csv_data.isnull().sum()"
   ]
  },
  {
   "cell_type": "code",
   "execution_count": null,
   "metadata": {},
   "outputs": [],
   "source": [
    "reviews_csv_data.dropna(inplace=True)"
   ]
  },
  {
   "cell_type": "code",
   "execution_count": 55,
   "metadata": {},
   "outputs": [
    {
     "data": {
      "text/plain": [
       "listing_id       0\n",
       "id               0\n",
       "date             0\n",
       "reviewer_id      0\n",
       "reviewer_name    0\n",
       "comments         0\n",
       "dtype: int64"
      ]
     },
     "execution_count": 55,
     "metadata": {},
     "output_type": "execute_result"
    }
   ],
   "source": [
    "reviews_csv_data.isnull().sum()"
   ]
  },
  {
   "cell_type": "code",
   "execution_count": 74,
   "metadata": {},
   "outputs": [
    {
     "data": {
      "text/plain": [
       "listing_id        int64\n",
       "id                int64\n",
       "date             object\n",
       "reviewer_id       int64\n",
       "reviewer_name    object\n",
       "comments         object\n",
       "dtype: object"
      ]
     },
     "execution_count": 74,
     "metadata": {},
     "output_type": "execute_result"
    }
   ],
   "source": [
    "reviews_csv_data.dtypes"
   ]
  },
  {
   "cell_type": "code",
   "execution_count": 65,
   "metadata": {},
   "outputs": [],
   "source": [
    "listing_id = pd.read_csv('./NewYork/listings_cleaned.csv')\n",
    "filtered_reviews = reviews_csv_data[reviews_csv_data['listing_id'].isin(listing_id['id'])]"
   ]
  },
  {
   "cell_type": "code",
   "execution_count": 58,
   "metadata": {},
   "outputs": [
    {
     "data": {
      "text/plain": [
       "listing_id       0\n",
       "id               0\n",
       "date             0\n",
       "reviewer_id      0\n",
       "reviewer_name    0\n",
       "comments         0\n",
       "dtype: int64"
      ]
     },
     "execution_count": 58,
     "metadata": {},
     "output_type": "execute_result"
    }
   ],
   "source": [
    "filtered_reviews.isnull().sum()"
   ]
  },
  {
   "cell_type": "markdown",
   "metadata": {},
   "source": [
    "# Detecting language for further translation"
   ]
  },
  {
   "cell_type": "code",
   "execution_count": null,
   "metadata": {},
   "outputs": [],
   "source": [
    "def detect_language(text):\n",
    "    try:\n",
    "        return detect(text)\n",
    "    except:\n",
    "        return \"unknown\"\n",
    "\n",
    "filtered_reviews.reset_index(inplace=True, drop=True)\n",
    "filtered_reviews['lang'] = filtered_reviews['comments'].apply(detect_language)\n",
    "\n",
    "# output_path = './Amsterdam/reviews_with_language.csv'\n",
    "output_path = './NewYork/reviews_with_language.csv'\n",
    "filtered_reviews.to_csv(output_path, index=False)\n"
   ]
  },
  {
   "cell_type": "code",
   "execution_count": 23,
   "metadata": {},
   "outputs": [
    {
     "name": "stderr",
     "output_type": "stream",
     "text": [
      "/var/folders/8b/hyq60bp52_9_w3t6s37pqbrr0000gn/T/ipykernel_6814/4004819640.py:1: DtypeWarning: Columns (0,1) have mixed types. Specify dtype option on import or set low_memory=False.\n",
      "  filtered_reviews = pd.read_csv('./NewYork/reviews_with_language.csv')\n"
     ]
    }
   ],
   "source": [
    "filtered_reviews = pd.read_csv('./NewYork/reviews_with_language.csv')"
   ]
  },
  {
   "cell_type": "code",
   "execution_count": 24,
   "metadata": {},
   "outputs": [
    {
     "data": {
      "text/plain": [
       "(899492, 7)"
      ]
     },
     "execution_count": 24,
     "metadata": {},
     "output_type": "execute_result"
    }
   ],
   "source": [
    "filtered_reviews.shape"
   ]
  },
  {
   "cell_type": "code",
   "execution_count": 25,
   "metadata": {},
   "outputs": [
    {
     "data": {
      "text/plain": [
       "lang\n",
       "en         775789\n",
       "fr          31104\n",
       "es          30930\n",
       "de          12147\n",
       "it           5420\n",
       "pt           4897\n",
       "ro           3580\n",
       "nl           2934\n",
       "zh-cn        2847\n",
       "ko           2703\n",
       "unknown      2413\n",
       "so           1926\n",
       "af           1529\n",
       "ca           1303\n",
       "ru           1291\n",
       "ja           1104\n",
       "pl           1101\n",
       "tl            934\n",
       "cs            839\n",
       "da            740\n",
       "no            578\n",
       "sv            543\n",
       "sw            386\n",
       "tr            324\n",
       "hu            313\n",
       "cy            303\n",
       "id            276\n",
       "zh-tw         270\n",
       "fi            262\n",
       "hr            255\n",
       "he            235\n",
       "vi            198\n",
       "sk            157\n",
       "et            147\n",
       "sl            145\n",
       "ar             76\n",
       "el             52\n",
       "th             36\n",
       "lv             29\n",
       "uk             28\n",
       "lt             27\n",
       "bg             20\n",
       "sq             20\n",
       "mk              8\n",
       "ur              4\n",
       "fa              2\n",
       "Name: count, dtype: int64"
      ]
     },
     "execution_count": 25,
     "metadata": {},
     "output_type": "execute_result"
    }
   ],
   "source": [
    "filtered_reviews['lang'].value_counts()"
   ]
  },
  {
   "cell_type": "code",
   "execution_count": 28,
   "metadata": {},
   "outputs": [
    {
     "data": {
      "text/plain": [
       "(775789, 7)"
      ]
     },
     "execution_count": 28,
     "metadata": {},
     "output_type": "execute_result"
    }
   ],
   "source": [
    "filtered_reviews = filtered_reviews[filtered_reviews['lang'] == 'en']\n",
    "filtered_reviews.shape"
   ]
  },
  {
   "cell_type": "code",
   "execution_count": 29,
   "metadata": {},
   "outputs": [],
   "source": [
    "filtered_reviews.to_csv(\"./NewYork/reviews_only_en.csv\", index=False)"
   ]
  },
  {
   "cell_type": "markdown",
   "metadata": {},
   "source": [
    "# Translating reviews for better Sentiment Analysis"
   ]
  },
  {
   "cell_type": "code",
   "execution_count": 7,
   "metadata": {},
   "outputs": [],
   "source": [
    "translator = GoogleTranslator(source='auto', target='en')\n",
    "\n",
    "def translate_comments(df):\n",
    "    def translate_comment(text, lang):\n",
    "        try:\n",
    "            if text and text != 'No review provided' and lang != 'en':\n",
    "                if len(text) > 5000:\n",
    "                    text = text[:5000]\n",
    "                translation = translator.translate(text)\n",
    "                return translation\n",
    "        except Exception as e:\n",
    "            print(f\"Error translating text: {e}\")\n",
    "        return text\n",
    "\n",
    "    tqdm.pandas(desc=\"Translating Comments\")\n",
    "    df['comments'] = df.progress_apply(lambda row: translate_comment(row['comments'], row['lang']), axis=1)\n",
    "    return df\n",
    "\n",
    "filtered_reviews = pd.read_csv('./NewYork/reviews_with_language.csv')\n",
    "filtered_reviews.reset_index(inplace=True, drop=True)\n",
    "\n",
    "filtered_reviews = translate_comments(filtered_reviews)\n",
    "filtered_reviews.to_csv('./NewYork/reviews_cleaned_translated.csv', index=False)\n"
   ]
  },
  {
   "cell_type": "code",
   "execution_count": 4,
   "metadata": {},
   "outputs": [],
   "source": [
    "total_rows = filtered_reviews.shape[0]\n",
    "chunk_size = total_rows // 3\n",
    "part1 = filtered_reviews.iloc[:chunk_size]\n",
    "part2 = filtered_reviews.iloc[chunk_size:2*chunk_size]\n",
    "part3 = filtered_reviews.iloc[2*chunk_size:]\n",
    "\n",
    "part1.to_csv('reviews_part1.csv', index=False)\n",
    "part2.to_csv('reviews_part2.csv', index=False)\n",
    "part3.to_csv('reviews_part3.csv', index=False)"
   ]
  },
  {
   "cell_type": "code",
   "execution_count": null,
   "metadata": {},
   "outputs": [
    {
     "data": {
      "text/plain": [
       "(98914, 7)"
      ]
     },
     "execution_count": 9,
     "metadata": {},
     "output_type": "execute_result"
    }
   ],
   "source": [
    "reviews_part1 = pd.read_csv('./reviews_part1.csv')\n",
    "reviews_part1.shape"
   ]
  },
  {
   "cell_type": "code",
   "execution_count": 10,
   "metadata": {},
   "outputs": [
    {
     "name": "stderr",
     "output_type": "stream",
     "text": [
      "Translating Comments:   0%|          | 0/98914 [00:00<?, ?it/s]"
     ]
    },
    {
     "name": "stderr",
     "output_type": "stream",
     "text": [
      "Translating Comments:  53%|█████▎    | 52468/98914 [1:24:51<13:45:09,  1.07s/it]"
     ]
    },
    {
     "name": "stdout",
     "output_type": "stream",
     "text": [
      "Error translating text: Request exception can happen due to an api connection error. Please check your connection and try again\n"
     ]
    },
    {
     "name": "stderr",
     "output_type": "stream",
     "text": [
      "Translating Comments:  53%|█████▎    | 52505/98914 [1:25:23<15:45:40,  1.22s/it]"
     ]
    },
    {
     "name": "stdout",
     "output_type": "stream",
     "text": [
      "Error translating text: Request exception can happen due to an api connection error. Please check your connection and try again\n"
     ]
    },
    {
     "name": "stderr",
     "output_type": "stream",
     "text": [
      "Translating Comments:  53%|█████▎    | 52510/98914 [1:25:35<28:14:09,  2.19s/it]"
     ]
    },
    {
     "name": "stdout",
     "output_type": "stream",
     "text": [
      "Error translating text: Request exception can happen due to an api connection error. Please check your connection and try again\n"
     ]
    },
    {
     "name": "stderr",
     "output_type": "stream",
     "text": [
      "Translating Comments: 100%|██████████| 98914/98914 [2:57:21<00:00,  9.30it/s]   \n"
     ]
    }
   ],
   "source": [
    "translated_part1 = translate_comments(reviews_part1)\n",
    "translated_part1.to_csv('./translated_part1.csv', index=False)"
   ]
  },
  {
   "cell_type": "code",
   "execution_count": 12,
   "metadata": {},
   "outputs": [
    {
     "data": {
      "text/plain": [
       "(98914, 7)"
      ]
     },
     "execution_count": 12,
     "metadata": {},
     "output_type": "execute_result"
    }
   ],
   "source": [
    "reviews_part2 = pd.read_csv('./reviews_part2.csv')\n",
    "reviews_part2.shape"
   ]
  },
  {
   "cell_type": "code",
   "execution_count": 14,
   "metadata": {},
   "outputs": [
    {
     "name": "stderr",
     "output_type": "stream",
     "text": [
      "Translating Comments:   0%|          | 0/98914 [00:00<?, ?it/s]"
     ]
    },
    {
     "name": "stderr",
     "output_type": "stream",
     "text": [
      "Translating Comments:  12%|█▏        | 11589/98914 [24:18<1:49:13, 13.33it/s] "
     ]
    },
    {
     "name": "stdout",
     "output_type": "stream",
     "text": [
      "Error translating text: Request exception can happen due to an api connection error. Please check your connection and try again\n"
     ]
    },
    {
     "name": "stderr",
     "output_type": "stream",
     "text": [
      "Translating Comments:  12%|█▏        | 11591/98914 [24:19<2:42:40,  8.95it/s]"
     ]
    },
    {
     "name": "stdout",
     "output_type": "stream",
     "text": [
      "Error translating text: Request exception can happen due to an api connection error. Please check your connection and try again\n"
     ]
    },
    {
     "name": "stderr",
     "output_type": "stream",
     "text": [
      "Translating Comments:  12%|█▏        | 11599/98914 [24:22<4:17:35,  5.65it/s]"
     ]
    },
    {
     "name": "stdout",
     "output_type": "stream",
     "text": [
      "Error translating text: Request exception can happen due to an api connection error. Please check your connection and try again\n"
     ]
    },
    {
     "name": "stderr",
     "output_type": "stream",
     "text": [
      "Translating Comments:  12%|█▏        | 11602/98914 [24:24<5:28:18,  4.43it/s]"
     ]
    },
    {
     "name": "stdout",
     "output_type": "stream",
     "text": [
      "Error translating text: Request exception can happen due to an api connection error. Please check your connection and try again\n"
     ]
    },
    {
     "name": "stderr",
     "output_type": "stream",
     "text": [
      "Translating Comments:  12%|█▏        | 11603/98914 [24:27<9:44:56,  2.49it/s]"
     ]
    },
    {
     "name": "stdout",
     "output_type": "stream",
     "text": [
      "Error translating text: Request exception can happen due to an api connection error. Please check your connection and try again\n"
     ]
    },
    {
     "name": "stderr",
     "output_type": "stream",
     "text": [
      "Translating Comments:  12%|█▏        | 11615/98914 [24:32<9:34:36,  2.53it/s]"
     ]
    },
    {
     "name": "stdout",
     "output_type": "stream",
     "text": [
      "Error translating text: Request exception can happen due to an api connection error. Please check your connection and try again\n"
     ]
    },
    {
     "name": "stderr",
     "output_type": "stream",
     "text": [
      "Translating Comments:  12%|█▏        | 11620/98914 [24:32<8:06:19,  2.99it/s]"
     ]
    },
    {
     "name": "stdout",
     "output_type": "stream",
     "text": [
      "Error translating text: Request exception can happen due to an api connection error. Please check your connection and try again\n"
     ]
    },
    {
     "name": "stderr",
     "output_type": "stream",
     "text": [
      "Translating Comments:  12%|█▏        | 11624/98914 [24:38<14:02:50,  1.73it/s]"
     ]
    },
    {
     "name": "stdout",
     "output_type": "stream",
     "text": [
      "Error translating text: Request exception can happen due to an api connection error. Please check your connection and try again\n"
     ]
    },
    {
     "name": "stderr",
     "output_type": "stream",
     "text": [
      "Translating Comments:  12%|█▏        | 11625/98914 [24:39<13:47:07,  1.76it/s]"
     ]
    },
    {
     "name": "stdout",
     "output_type": "stream",
     "text": [
      "Error translating text: Request exception can happen due to an api connection error. Please check your connection and try again\n"
     ]
    },
    {
     "name": "stderr",
     "output_type": "stream",
     "text": [
      "Translating Comments:  12%|█▏        | 11632/98914 [24:39<8:00:16,  3.03it/s] "
     ]
    },
    {
     "name": "stdout",
     "output_type": "stream",
     "text": [
      "Error translating text: Request exception can happen due to an api connection error. Please check your connection and try again\n"
     ]
    },
    {
     "name": "stderr",
     "output_type": "stream",
     "text": [
      "Translating Comments:  12%|█▏        | 11637/98914 [24:41<8:42:53,  2.78it/s]"
     ]
    },
    {
     "name": "stdout",
     "output_type": "stream",
     "text": [
      "Error translating text: Request exception can happen due to an api connection error. Please check your connection and try again\n"
     ]
    },
    {
     "name": "stderr",
     "output_type": "stream",
     "text": [
      "Translating Comments: 100%|██████████| 98914/98914 [3:33:33<00:00,  7.72it/s]   \n"
     ]
    }
   ],
   "source": [
    "translated_part2 = translate_comments(reviews_part2)\n",
    "translated_part2.to_csv('./translated_part2.csv', index=False)"
   ]
  },
  {
   "cell_type": "code",
   "execution_count": 16,
   "metadata": {},
   "outputs": [
    {
     "data": {
      "text/plain": [
       "(98914, 7)"
      ]
     },
     "execution_count": 16,
     "metadata": {},
     "output_type": "execute_result"
    }
   ],
   "source": [
    "reviews_part3 = pd.read_csv('./reviews_part3.csv')\n",
    "reviews_part3.shape"
   ]
  },
  {
   "cell_type": "code",
   "execution_count": 17,
   "metadata": {},
   "outputs": [
    {
     "name": "stderr",
     "output_type": "stream",
     "text": [
      "Translating Comments:  26%|██▌       | 25958/98914 [47:54<1:21:23, 14.94it/s] "
     ]
    },
    {
     "name": "stdout",
     "output_type": "stream",
     "text": [
      "Error translating text: Zu aller erst, Ben ist nicht unfreundlich aber zuvorkommend ist auch etwas anderes. Ich habe mich nicht wirklich wohl gefühlt. Es wirkt als ob er nicht gerne Leute bei sich hat, sondern es ein notwendiges Übel sei, um dort selbst leben zu können. Angefangen damit, dass ich fragte wie man am besten vom Flughafen zu ihm kommt, war die Antwort ich soll im Internet nachschauen. toll, danke für keine hilfe. Ja Im Internet nachschauen kann ich auch ohne den zu fragen, der dort wohnt.<br/>Als ich dann nach fast 10 Stunden im Apartment angekommen bin, wurde mir die Eigenheiten mit dem Schlüssel und dem Schloss erklärt,  da dieses nur sehr eigen absperrt. Nur wenn der Schlüssel eine ganze gewisse Position im Schloss hat. da ich tot müde nach 10 Stunden Flug und weiteren 2 Stunden Flughafen und Fahrt zu ihm hatte gelang das nicht, ich durfte mir gleich mal anhören; Are you stupid?<br/>Ganz toll, wenn man gerade ankommt und sich kennen lernt. Zur Wohnung,  es gibt Waschmaschine und Trockner,  aber was einem keiner sagt, dieser kostet extra Geld um sie zu benutzen. Das Badezimmer ist am Foto abgebildet mit Badewanne (auch einer der Gründe für mich dieses Apartment zu buchen), die Badewanne hat aber keinen Stöpsel und angeblich laut Ben leckt diese wenn man sie benutzt. Also keine Badewanne. Am Foto außerdem zu sehen, ein Klo-hocker für die Beine zum hochstellen, etwas was ich auch zu Hause habe und für mich ziemlich wichtig um gut aufs WC zu gehen.  Auf frage wo dieser sei, hieß es dies sei für die anderen Mieter,  nicht für mich. Wann immer ich etwas fragte, wie Badewanne oder Klohocker wurde mir sofort gesagt, dass wenn ich ein Problem damit habe kann ich mir gleich eine andere Wohnung suchen. Am Tag nach dem Flug fragt man nach der Badewanne und die Antwort ist, wenn es dir nicht passt, dann geh.<br/>Die Küche: Ben will minimieren uns so ist nicht wirklich funktionales in der Küche auf die Frage nach einer Gemüsereibe wurde mir eine Parmesanreibe gegeben und wieder die Antwort wenn es mir nicht passt kann ich ja gleich wieder gehen.<br/>Es nervt unglaublich permanent das Gefühl zu bekommen,  eigentlich nicht richtig erwünscht zu sein. Er wirbt auch mit seiner tollen Kaffeemaschine, welche aber in Wirklichkeit nicht funktioniert.<br/>Ich habe eine Gehhilfe da ich leider 12 Wochen davor im Krankenhaus war, benötige ich einen Gehstock. Außerdem bin ich sehr allergisch auf Erdnüsse.  Ben war sichtlich verärgert das ich ihm nicht aufgeklärt habe bevor ich gekommen bin. Und meinte ich hätte ihn vorher es sagen, sollen, damit er entscheiden hätte können ob ich kommen darf? Wegen einer Erdnuss Allergie? Was meiner Meinung nach echt keine Sache ist, verärgert zu sein. Das Zimmer welches von ihm an mich vermietet wurde, liegt neben seinem. Das Problem ist das er teils bis 2 Uhr Früh (scheinbar beruflich) telefoniert,  aber über Lautsprecher ohne Rücksicht auf andere. Trotz meiner Ohropax konnte ich ihn durch die Wand hören,  was ziemlich aussagt wie laut er über die Audioboxen telefoniert.<br/>Außerdem wenn er im Wohnzimmer Fernseher andreht, dann in einer Lautstärke, dass jedes Kino neidisch wäre. An Geborgenheit und Ruhe im eigenen Zimmer keine Spur.<br/>Am 4 Tag wurde ich dann krank(gebucht und bezahlt waren 14 Tage).<br/>Ich hatte einen positiven Corona Test und 39 grad Fieber, und unglaubliche Kopfschmerzen. Ich erzählte es Ben, da ich der Meinung war er würde mir helfen.  Ich fragte wo die nächste Apotheke sei, seine Antwort war er habe eigene Probleme im Leben ich sollte das Internet befragen. Als ich von der Apotheke heim kam( immerhin mit fast 40 Fieber in einer Nachbarschaft wo ich noch nie war und einer Sprache welche nicht meine Muttersprache ist), erklärte mir Ben er habe mit AirBnB geredet und er würde mir das Geld geben welches noch für die 10 gebuchten Tage übrig sei, aber ich soll bitte ausziehen.<br/>Ich telefonierte den ganzen Tag darauf hin mit meinem Reisebüro auf der anderen Seite der Welt mit 6 Stunden Zeit unterschied und bekam ein Hotelzimmer am nächsten Tag. voller Stolz erzählte ich es Ben, der Annahme er würde sich freuen. Er erklärte mir aber darauf hin, dass er für diese eine Nacht sich ein Hotelzimmer nehmen muss auf meine Kosten(Hotelzimmer in NewYork fangen bei 200 Dollar die Nacht an), oder ich würde nochmals mit dem Reisebüro telefonieren und für die Nacht am selbigen Tag noch ein Zimmer für mich finden. Was wie ein Wunder auch funktioniert hat, aber in einem anderen Hotel als ich dann am nächsten Tag gebucht war. Also ich mit mittlerweile 39,5 Fieber unglaublich heftigen Kopfschmerzen am packen und mit Ben über Nachrichten kommunizierend das ich zwei Stunden brauch zum packen. Nach einer Stunde (trotz Vereinbarung mit ihm, hieß es, es würde ihm zu lange dauern ich soll sofort raus).Also ich mit Fieber, Kopfschmerzen,  riesen Koffer, Rucksack und Gehstock raus auf die Straße. Keine hilfe von Ben. Kein Taxi rufen können. Wie ich dann erfahren durfte gibt's dort auch weit und breit keinen Taxi --> Text length need to be between 0 and 5000 characters\n"
     ]
    },
    {
     "name": "stderr",
     "output_type": "stream",
     "text": [
      "Translating Comments: 100%|██████████| 98914/98914 [3:03:34<00:00,  8.98it/s]   \n"
     ]
    }
   ],
   "source": [
    "translated_part3 = translate_comments(reviews_part3)\n",
    "translated_part3.to_csv('./translated_part3.csv', index=False)"
   ]
  },
  {
   "cell_type": "code",
   "execution_count": 2,
   "metadata": {},
   "outputs": [],
   "source": [
    "reviews_part12 = pd.read_csv('./reviews_translated.csv')\n",
    "reviews_part31 = pd.read_csv('./translated_part1.csv')\n",
    "reviews_part32 = pd.read_csv('./translated_part2.csv')\n",
    "reviews_part33 = pd.read_csv('./translated_part3.csv')\n",
    "\n",
    "full_reviews = pd.concat([reviews_part12, reviews_part31, reviews_part32, reviews_part33], ignore_index=True)\n",
    "full_reviews.to_csv('./full_reviews.csv', index=False)"
   ]
  }
 ],
 "metadata": {
  "kernelspec": {
   "display_name": "Python 3",
   "language": "python",
   "name": "python3"
  },
  "language_info": {
   "codemirror_mode": {
    "name": "ipython",
    "version": 3
   },
   "file_extension": ".py",
   "mimetype": "text/x-python",
   "name": "python",
   "nbconvert_exporter": "python",
   "pygments_lexer": "ipython3",
   "version": "3.11.6"
  }
 },
 "nbformat": 4,
 "nbformat_minor": 2
}
