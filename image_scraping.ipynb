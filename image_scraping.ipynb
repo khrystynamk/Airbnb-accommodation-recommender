{
 "cells": [
  {
   "cell_type": "code",
   "execution_count": 48,
   "metadata": {},
   "outputs": [],
   "source": [
    "import ssl\n",
    "import os\n",
    "import pandas as pd\n",
    "import certifi\n",
    "\n",
    "from bs4 import BeautifulSoup\n",
    "from selenium import webdriver\n",
    "from bs4 import BeautifulSoup \n",
    "from pymongo import MongoClient"
   ]
  },
  {
   "cell_type": "code",
   "execution_count": 4,
   "metadata": {},
   "outputs": [],
   "source": [
    "ssl._create_default_https_context = ssl._create_unverified_context"
   ]
  },
  {
   "cell_type": "code",
   "execution_count": 49,
   "metadata": {},
   "outputs": [],
   "source": [
    "uri = os.environ['MONGODB_CONNECT_STRING']\n",
    "client = MongoClient(uri, tlsCAFile=certifi.where())\n",
    "\n",
    "db = client['ai-test']\n",
    "collection = db['test']"
   ]
  },
  {
   "cell_type": "code",
   "execution_count": 46,
   "metadata": {},
   "outputs": [],
   "source": [
    "def get_url_images(url):\n",
    "\n",
    "    driver = webdriver.Chrome()\n",
    "    driver.get(url)\n",
    "\n",
    "    page_source = driver.page_source\n",
    "    soup = BeautifulSoup(page_source, 'html.parser')\n",
    "\n",
    "    images = soup.find_all('img')\n",
    "\n",
    "    if not os.path.exists('airbnb_photos'):\n",
    "        os.makedirs('airbnb_photos')\n",
    "\n",
    "    # for i, img in enumerate(images):\n",
    "    #     try:\n",
    "    #         img_url = img['src']\n",
    "    #         img_data = requests.get(img_url).content\n",
    "    #         with open(f'airbnb_photos/photo_{i}.jpg', 'wb') as handler:\n",
    "    #             handler.write(img_data)\n",
    "    #         print(f'Downloaded: photo_{i}.jpg')\n",
    "    #     except KeyError:\n",
    "    #         continue\n",
    "\n",
    "    # for img in images:\n",
    "    #     print(img['src'])\n",
    "    # driver.quit()\n",
    "\n",
    "    return [img['src'] for img in images]\n"
   ]
  },
  {
   "cell_type": "code",
   "execution_count": 50,
   "metadata": {},
   "outputs": [
    {
     "name": "stdout",
     "output_type": "stream",
     "text": [
      "['https://a0.muscache.com/im/pictures/df91da10-f7d4-4cf8-80b6-8add6047c989.jpg?im_w=720', 'https://a0.muscache.com/im/pictures/0a464ad0-9a98-4e10-b33f-43892b569293.jpg?im_w=720', 'https://a0.muscache.com/im/pictures/f2558d9f-6fc1-423d-a94a-eb016fa25e32.jpg?im_w=720', 'https://a0.muscache.com/im/pictures/bb99f545-90db-449e-a48b-cf157fd5475c.jpg?im_w=720', 'https://a0.muscache.com/im/pictures/debf81e2-4d62-4fab-ac93-732d996e4907.jpg?im_w=720']\n"
     ]
    },
    {
     "data": {
      "text/plain": [
       "InsertOneResult(ObjectId('6713c681a83e125c903263b2'), acknowledged=True)"
      ]
     },
     "execution_count": 50,
     "metadata": {},
     "output_type": "execute_result"
    }
   ],
   "source": [
    "url = \"https://www.airbnb.com/rooms/6624170\"\n",
    "img_urls = get_url_images(url)\n",
    "print(get_url_images(url))\n",
    "collection.insert_one({ 'appartment_id': 6624170, 'img_urls': img_urls })"
   ]
  },
  {
   "cell_type": "code",
   "execution_count": null,
   "metadata": {},
   "outputs": [],
   "source": [
    "csvfile_path = \"listings-1.csv\"\n",
    "listings_csv_data = pd.read_csv(csvfile_path)\n",
    "img_lists = []\n",
    "\n",
    "for index, row in listings_csv_data.iterrows():\n",
    "    url = row[\"listing_url\"]\n",
    "    listing_id = row[\"id\"]\n",
    "    images = get_url_images(url)\n",
    "    img_lists.append({ 'appartment_id': listing_id, 'img_urls': images })"
   ]
  },
  {
   "cell_type": "code",
   "execution_count": null,
   "metadata": {},
   "outputs": [],
   "source": [
    "collection.insert_many(img_lists)"
   ]
  }
 ],
 "metadata": {
  "kernelspec": {
   "display_name": "Python 3",
   "language": "python",
   "name": "python3"
  },
  "language_info": {
   "codemirror_mode": {
    "name": "ipython",
    "version": 3
   },
   "file_extension": ".py",
   "mimetype": "text/x-python",
   "name": "python",
   "nbconvert_exporter": "python",
   "pygments_lexer": "ipython3",
   "version": "3.11.6"
  }
 },
 "nbformat": 4,
 "nbformat_minor": 2
}
